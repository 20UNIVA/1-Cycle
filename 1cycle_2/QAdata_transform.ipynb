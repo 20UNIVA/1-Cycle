{
 "cells": [
  {
   "cell_type": "code",
   "execution_count": null,
   "id": "28d82bc3-eeb6-4a40-8585-b20e6d43dd43",
   "metadata": {},
   "outputs": [],
   "source": [
    "%cd .."
   ]
  },
  {
   "cell_type": "code",
   "execution_count": null,
   "id": "a07230f6-b13e-4f81-a903-79f93168da69",
   "metadata": {},
   "outputs": [],
   "source": [
    "import json\n",
    "from tqdm import tqdm"
   ]
  },
  {
   "cell_type": "code",
   "execution_count": null,
   "id": "f5ef0e72-e702-4782-971c-998679ac92b9",
   "metadata": {},
   "outputs": [],
   "source": [
    "with open('klue-mrc-v1.1_train_pre.json','r') as f:\n",
    "    target_json = json.load(f)"
   ]
  },
  {
   "cell_type": "code",
   "execution_count": null,
   "id": "c311d294-10fa-4251-9619-c75056aa669c",
   "metadata": {},
   "outputs": [],
   "source": [
    "target_json[0].keys()"
   ]
  },
  {
   "cell_type": "code",
   "execution_count": null,
   "id": "91be78d5-b0ff-47bd-a78f-5c1b951826e2",
   "metadata": {},
   "outputs": [],
   "source": [
    "with open('1cycle_2/55e4099e-733f-49fe-97be-6bd9d2ca2263_라벨링 1차검수 (2).json','r') as f:\n",
    "    QA_json1 = json.load(f)"
   ]
  },
  {
   "cell_type": "code",
   "execution_count": null,
   "id": "b80b61b9-37e2-498d-a440-9414d5ad91ea",
   "metadata": {},
   "outputs": [],
   "source": [
    "with open('1cycle_2/55e4099e-733f-49fe-97be-6bd9d2ca2263_라벨링 2차검수 (7).json','r') as f:\n",
    "    QA_json2 = json.load(f)"
   ]
  },
  {
   "cell_type": "code",
   "execution_count": null,
   "id": "471d8f2a-74f6-436d-8355-682a93365fd6",
   "metadata": {},
   "outputs": [],
   "source": [
    "print(ct_data['context'])"
   ]
  },
  {
   "cell_type": "code",
   "execution_count": null,
   "id": "7c5be695-c7fc-45db-82c4-6efc5297e774",
   "metadata": {},
   "outputs": [],
   "source": [
    "ct_data['context'].find(qa['answer'].replace(u\"\\xa0\",\"\"))"
   ]
  },
  {
   "cell_type": "code",
   "execution_count": null,
   "id": "f71f9eac-dfe4-4133-b65e-6eab851c71bb",
   "metadata": {},
   "outputs": [],
   "source": [
    "ct_data['qas'][0]['answer']"
   ]
  },
  {
   "cell_type": "code",
   "execution_count": null,
   "id": "fb164488-2d7b-4da4-a509-424a4a411ba7",
   "metadata": {},
   "outputs": [],
   "source": [
    "new_json = []\n",
    "weird_json = []"
   ]
  },
  {
   "cell_type": "code",
   "execution_count": null,
   "id": "329964c3-7aee-49ab-bff9-745520ffbfb1",
   "metadata": {
    "scrolled": true,
    "tags": []
   },
   "outputs": [],
   "source": [
    "for data in tqdm(QA_json1['dataset']):\n",
    "    for ct_data in data['context_info']:\n",
    "        for qa in ct_data['qas']:\n",
    "            if 'answer_start' not in qa:\n",
    "                continue\n",
    "            elem = {}\n",
    "            elem['context'] = ct_data['context']\n",
    "            elem['question'] = list(qa['question'][0].values())[0]\n",
    "            answer = qa['answer']#.replace(u\"\\xa0\",\"\")\n",
    "            elem['start'] = ct_data['context'].find(answer)\n",
    "            elem['end'] = elem['start'] + len(answer)\n",
    "            elem['ans'] = elem['context'][elem['start']:elem['end']]\n",
    "            elem['qid'] = qa['question_id']\n",
    "            elem['label'] = answer            \n",
    "            if elem['ans'] != answer:\n",
    "                print(len(new_json),elem['start'],elem['end'])\n",
    "                # print(\"range:\",elem['ans'])\n",
    "                # print(\"label:\",answer)\n",
    "                # print(\"--------------------------------\")\n",
    "                # raise\n",
    "                weird_json.append(elem)\n",
    "            else:\n",
    "                new_json.append(elem)\n",
    "print(len(new_json))"
   ]
  },
  {
   "cell_type": "code",
   "execution_count": null,
   "id": "b0e0d9a3-c6a2-4154-bdd8-2918ba58b41e",
   "metadata": {},
   "outputs": [],
   "source": [
    "data = new_json[6]"
   ]
  },
  {
   "cell_type": "code",
   "execution_count": null,
   "id": "a8c8613d-ce5e-4f8f-959d-c10fb7267da7",
   "metadata": {},
   "outputs": [],
   "source": [
    "start = data['start']\n",
    "end = data['end']\n",
    "start,end"
   ]
  },
  {
   "cell_type": "code",
   "execution_count": null,
   "id": "8ae515bf-4327-46c6-a71d-40e381959e0a",
   "metadata": {},
   "outputs": [],
   "source": [
    "data['ans']"
   ]
  },
  {
   "cell_type": "code",
   "execution_count": null,
   "id": "693a8175-8699-4793-ac4d-449fe253d13c",
   "metadata": {},
   "outputs": [],
   "source": [
    "print('1',data['ans'])\n",
    "print('2',data['label'])"
   ]
  },
  {
   "cell_type": "code",
   "execution_count": null,
   "id": "2ac0c0ff-4370-44ca-af8e-340c545e1ece",
   "metadata": {},
   "outputs": [],
   "source": [
    "for data in tqdm(QA_json2['dataset']):\n",
    "    for ct_data in data['context_info']:\n",
    "        for qa in ct_data['qas']:\n",
    "            if 'answer_start' not in qa:\n",
    "                continue\n",
    "            elem = {}\n",
    "            elem['context'] = ct_data['context']\n",
    "            elem['question'] = list(qa['question'][0].values())[0]\n",
    "            answer = qa['answer'].replace(u\"\\xa0\",\"\")\n",
    "            elem['start'] = ct_data['context'].find(answer)\n",
    "            elem['end'] = elem['start'] + len(answer)\n",
    "            elem['ans'] = elem['context'][elem['start']:elem['end']]\n",
    "            elem['qid'] = qa['question_id']\n",
    "            elem['label'] = answer            \n",
    "            if elem['ans'] != answer:\n",
    "                print(len(new_json),elem['start'],elem['end'])\n",
    "                # print(\"range:\",elem['ans'])\n",
    "                # print(\"label:\",answer)\n",
    "                # print(\"--------------------------------\")\n",
    "                # raise\n",
    "                weird_json.append(elem)\n",
    "            else:\n",
    "                new_json.append(elem)\n",
    "print(len(new_json))"
   ]
  },
  {
   "cell_type": "code",
   "execution_count": null,
   "id": "55e26a52-2077-49b5-8a96-a51505bb22b8",
   "metadata": {},
   "outputs": [],
   "source": [
    "with open('1cycle_2/QA_convert2.json','w') as f:\n",
    "    json.dump(new_json,f)"
   ]
  },
  {
   "cell_type": "code",
   "execution_count": null,
   "id": "5958b5fb-271a-47d8-bd2d-3c73d8b48ce4",
   "metadata": {},
   "outputs": [],
   "source": [
    "len(new_json)"
   ]
  },
  {
   "cell_type": "code",
   "execution_count": null,
   "id": "dc17eb4e-a340-4022-9b74-b5178c65a0d9",
   "metadata": {},
   "outputs": [],
   "source": []
  },
  {
   "cell_type": "code",
   "execution_count": null,
   "id": "20e8a87d-120a-4067-8a54-8c63ea7ae6c7",
   "metadata": {},
   "outputs": [],
   "source": [
    "data = weird_json[8]"
   ]
  },
  {
   "cell_type": "code",
   "execution_count": null,
   "id": "bd6eb1f2-b6d4-4e81-88be-ef4e5878f890",
   "metadata": {},
   "outputs": [],
   "source": [
    "start = data['start']\n",
    "end = data['end']\n",
    "start,end"
   ]
  },
  {
   "cell_type": "code",
   "execution_count": null,
   "id": "460f8dff-b962-411a-89b1-e09644784086",
   "metadata": {},
   "outputs": [],
   "source": [
    "data['ans']"
   ]
  },
  {
   "cell_type": "code",
   "execution_count": null,
   "id": "038b18af-1883-40b8-915a-abb774c08fdd",
   "metadata": {},
   "outputs": [],
   "source": [
    "print('1',data['ans'])\n",
    "print('2',data['label'])"
   ]
  },
  {
   "cell_type": "code",
   "execution_count": null,
   "id": "6c1b305b-5a1e-4537-9836-d4a55812a6cb",
   "metadata": {},
   "outputs": [],
   "source": [
    "for data in weird_json:\n",
    "    if data['start'] != -1:\n",
    "        print(data['label'])"
   ]
  },
  {
   "cell_type": "code",
   "execution_count": null,
   "id": "6965f412-f964-49d7-9d86-c550e1f017bf",
   "metadata": {},
   "outputs": [],
   "source": [
    "len(new_json),len(weird_json)"
   ]
  },
  {
   "cell_type": "code",
   "execution_count": null,
   "id": "e496a687-26ca-4ec5-88f2-664f52086f72",
   "metadata": {
    "scrolled": true,
    "tags": []
   },
   "outputs": [],
   "source": [
    "new_json = []\n",
    "weird_json = []\n",
    "for data in tqdm(QA_json2['dataset']):\n",
    "    for ct_data in data['context_info']:\n",
    "        for qa in ct_data['qas']:\n",
    "            if 'answer_start' not in qa:\n",
    "                continue\n",
    "            elem = {}\n",
    "            elem['context'] = ct_data['context']\n",
    "            elem['question'] = list(qa['question'][0].values())[0]\n",
    "            answer = qa['answer'].replace(u\"\\xa0\",\"\")\n",
    "            elem['start'] = int(qa['answer_start'])-1\n",
    "            elem['end'] = int(qa['answer_end'])\n",
    "            elem['ans'] = elem['context'][elem['start']:elem['end']]\n",
    "            elem['qid'] = qa['question_id']\n",
    "            elem['label'] = answer            \n",
    "            if elem['ans'] != answer:\n",
    "                print(len(new_json),elem['start'],elem['end'])\n",
    "                # print(\"range:\",elem['ans'])\n",
    "                # print(\"label:\",answer)\n",
    "                # print(\"--------------------------------\")\n",
    "                # raise\n",
    "                weird_json.append(elem)\n",
    "            else:\n",
    "                new_json.append(elem)\n",
    "print(len(new_json))"
   ]
  },
  {
   "cell_type": "code",
   "execution_count": null,
   "id": "578e5f59-6a52-4714-820e-00691812c004",
   "metadata": {},
   "outputs": [],
   "source": [
    "len(new_json),len(weird_json)"
   ]
  },
  {
   "cell_type": "code",
   "execution_count": null,
   "id": "9e187b0e-280f-43f6-aebc-bbd8a6e39ab9",
   "metadata": {},
   "outputs": [],
   "source": [
    "weird_json[2]"
   ]
  },
  {
   "cell_type": "code",
   "execution_count": null,
   "id": "1824e3a9-b156-4a51-b6f3-e719cc317dcc",
   "metadata": {},
   "outputs": [],
   "source": [
    "with open('1cycle_2/weird_data.json','w') as f:\n",
    "    json.dump(weird_json,f)"
   ]
  },
  {
   "cell_type": "markdown",
   "id": "a1782645-5736-4650-9d43-706b59163ba4",
   "metadata": {},
   "source": [
    "### end_token_idx로 필터링 "
   ]
  },
  {
   "cell_type": "code",
   "execution_count": null,
   "id": "a3b8af79-ba09-4447-a9ca-d96c51085f63",
   "metadata": {},
   "outputs": [],
   "source": [
    "from QA_longformer import filter_data\n",
    "max_len = 2048\n",
    "new_json = filter_data(QA_json, tokenizer, max_len)\n",
    "with open(f'1cycle_2/QA_convert{max_len}.json','w') as f:\n",
    "    json.dump(new_json,f)"
   ]
  },
  {
   "cell_type": "code",
   "execution_count": null,
   "id": "a5037c58-e09a-4b90-983f-8834f0086d56",
   "metadata": {},
   "outputs": [],
   "source": []
  }
 ],
 "metadata": {
  "kernelspec": {
   "display_name": "py36_LM",
   "language": "python",
   "name": "py36_lm"
  },
  "language_info": {
   "codemirror_mode": {
    "name": "ipython",
    "version": 3
   },
   "file_extension": ".py",
   "mimetype": "text/x-python",
   "name": "python",
   "nbconvert_exporter": "python",
   "pygments_lexer": "ipython3",
   "version": "3.6.13"
  }
 },
 "nbformat": 4,
 "nbformat_minor": 5
}
