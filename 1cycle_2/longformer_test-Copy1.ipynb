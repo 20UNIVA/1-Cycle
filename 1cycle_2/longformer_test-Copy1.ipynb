{
 "cells": [
  {
   "cell_type": "code",
   "execution_count": 1,
   "id": "f16b41c4-11f2-4947-a4ea-f9cf53bf09c8",
   "metadata": {},
   "outputs": [
    {
     "name": "stderr",
     "output_type": "stream",
     "text": [
      "/root/miniconda3/envs/py36_LM/lib/python3.6/site-packages/tqdm/auto.py:22: TqdmWarning: IProgress not found. Please update jupyter and ipywidgets. See https://ipywidgets.readthedocs.io/en/stable/user_install.html\n",
      "  from .autonotebook import tqdm as notebook_tqdm\n"
     ]
    }
   ],
   "source": [
    "from tqdm import tqdm\n",
    "import json\n",
    "import torch\n",
    "from transformers import AutoModelForQuestionAnswering, AutoTokenizer\n",
    "import pytorch_lightning as pl\n",
    "import os\n",
    "import argparse"
   ]
  },
  {
   "cell_type": "code",
   "execution_count": 2,
   "id": "a8958a7d-8dd4-40e9-b0e5-c65c19b9d166",
   "metadata": {},
   "outputs": [
    {
     "name": "stdout",
     "output_type": "stream",
     "text": [
      "/home/UNILM/summary-QA\n"
     ]
    }
   ],
   "source": [
    "%cd .."
   ]
  },
  {
   "cell_type": "code",
   "execution_count": 3,
   "id": "575f94bb-3967-4691-a58b-573f82d08c1b",
   "metadata": {},
   "outputs": [],
   "source": [
    "from QA_longformer import QA, QA_F1, EM"
   ]
  },
  {
   "cell_type": "code",
   "execution_count": 4,
   "id": "25171ba0-db4e-434f-b068-436e491d8454",
   "metadata": {},
   "outputs": [],
   "source": [
    "os.environ['CUDA_VISIBLE_DEVICES']='1'\n",
    "device = torch.device('cuda' if torch.cuda.is_available() else 'cpu')"
   ]
  },
  {
   "cell_type": "code",
   "execution_count": 5,
   "id": "2811aec4-fa94-4508-9534-7dd4dd4ff9e3",
   "metadata": {
    "tags": []
   },
   "outputs": [
    {
     "name": "stderr",
     "output_type": "stream",
     "text": [
      "Some weights of the model checkpoint at markussagen/xlm-roberta-longformer-base-4096 were not used when initializing XLMRobertaForQuestionAnswering: ['lm_head.bias', 'lm_head.dense.weight', 'lm_head.dense.bias', 'lm_head.layer_norm.weight', 'lm_head.layer_norm.bias', 'lm_head.decoder.weight', 'lm_head.decoder.bias', 'roberta.encoder.layer.0.attention.self.query_global.weight', 'roberta.encoder.layer.0.attention.self.query_global.bias', 'roberta.encoder.layer.0.attention.self.key_global.weight', 'roberta.encoder.layer.0.attention.self.key_global.bias', 'roberta.encoder.layer.0.attention.self.value_global.weight', 'roberta.encoder.layer.0.attention.self.value_global.bias', 'roberta.encoder.layer.1.attention.self.query_global.weight', 'roberta.encoder.layer.1.attention.self.query_global.bias', 'roberta.encoder.layer.1.attention.self.key_global.weight', 'roberta.encoder.layer.1.attention.self.key_global.bias', 'roberta.encoder.layer.1.attention.self.value_global.weight', 'roberta.encoder.layer.1.attention.self.value_global.bias', 'roberta.encoder.layer.2.attention.self.query_global.weight', 'roberta.encoder.layer.2.attention.self.query_global.bias', 'roberta.encoder.layer.2.attention.self.key_global.weight', 'roberta.encoder.layer.2.attention.self.key_global.bias', 'roberta.encoder.layer.2.attention.self.value_global.weight', 'roberta.encoder.layer.2.attention.self.value_global.bias', 'roberta.encoder.layer.3.attention.self.query_global.weight', 'roberta.encoder.layer.3.attention.self.query_global.bias', 'roberta.encoder.layer.3.attention.self.key_global.weight', 'roberta.encoder.layer.3.attention.self.key_global.bias', 'roberta.encoder.layer.3.attention.self.value_global.weight', 'roberta.encoder.layer.3.attention.self.value_global.bias', 'roberta.encoder.layer.4.attention.self.query_global.weight', 'roberta.encoder.layer.4.attention.self.query_global.bias', 'roberta.encoder.layer.4.attention.self.key_global.weight', 'roberta.encoder.layer.4.attention.self.key_global.bias', 'roberta.encoder.layer.4.attention.self.value_global.weight', 'roberta.encoder.layer.4.attention.self.value_global.bias', 'roberta.encoder.layer.5.attention.self.query_global.weight', 'roberta.encoder.layer.5.attention.self.query_global.bias', 'roberta.encoder.layer.5.attention.self.key_global.weight', 'roberta.encoder.layer.5.attention.self.key_global.bias', 'roberta.encoder.layer.5.attention.self.value_global.weight', 'roberta.encoder.layer.5.attention.self.value_global.bias', 'roberta.encoder.layer.6.attention.self.query_global.weight', 'roberta.encoder.layer.6.attention.self.query_global.bias', 'roberta.encoder.layer.6.attention.self.key_global.weight', 'roberta.encoder.layer.6.attention.self.key_global.bias', 'roberta.encoder.layer.6.attention.self.value_global.weight', 'roberta.encoder.layer.6.attention.self.value_global.bias', 'roberta.encoder.layer.7.attention.self.query_global.weight', 'roberta.encoder.layer.7.attention.self.query_global.bias', 'roberta.encoder.layer.7.attention.self.key_global.weight', 'roberta.encoder.layer.7.attention.self.key_global.bias', 'roberta.encoder.layer.7.attention.self.value_global.weight', 'roberta.encoder.layer.7.attention.self.value_global.bias', 'roberta.encoder.layer.8.attention.self.query_global.weight', 'roberta.encoder.layer.8.attention.self.query_global.bias', 'roberta.encoder.layer.8.attention.self.key_global.weight', 'roberta.encoder.layer.8.attention.self.key_global.bias', 'roberta.encoder.layer.8.attention.self.value_global.weight', 'roberta.encoder.layer.8.attention.self.value_global.bias', 'roberta.encoder.layer.9.attention.self.query_global.weight', 'roberta.encoder.layer.9.attention.self.query_global.bias', 'roberta.encoder.layer.9.attention.self.key_global.weight', 'roberta.encoder.layer.9.attention.self.key_global.bias', 'roberta.encoder.layer.9.attention.self.value_global.weight', 'roberta.encoder.layer.9.attention.self.value_global.bias', 'roberta.encoder.layer.10.attention.self.query_global.weight', 'roberta.encoder.layer.10.attention.self.query_global.bias', 'roberta.encoder.layer.10.attention.self.key_global.weight', 'roberta.encoder.layer.10.attention.self.key_global.bias', 'roberta.encoder.layer.10.attention.self.value_global.weight', 'roberta.encoder.layer.10.attention.self.value_global.bias', 'roberta.encoder.layer.11.attention.self.query_global.weight', 'roberta.encoder.layer.11.attention.self.query_global.bias', 'roberta.encoder.layer.11.attention.self.key_global.weight', 'roberta.encoder.layer.11.attention.self.key_global.bias', 'roberta.encoder.layer.11.attention.self.value_global.weight', 'roberta.encoder.layer.11.attention.self.value_global.bias']\n",
      "- This IS expected if you are initializing XLMRobertaForQuestionAnswering from the checkpoint of a model trained on another task or with another architecture (e.g. initializing a BertForSequenceClassification model from a BertForPreTraining model).\n",
      "- This IS NOT expected if you are initializing XLMRobertaForQuestionAnswering from the checkpoint of a model that you expect to be exactly identical (initializing a BertForSequenceClassification model from a BertForSequenceClassification model).\n",
      "Some weights of XLMRobertaForQuestionAnswering were not initialized from the model checkpoint at markussagen/xlm-roberta-longformer-base-4096 and are newly initialized: ['qa_outputs.weight', 'qa_outputs.bias']\n",
      "You should probably TRAIN this model on a down-stream task to be able to use it for predictions and inference.\n"
     ]
    }
   ],
   "source": [
    "#parser = argparse.ArgumentParser()\n",
    "#parser.add_argument('--learning_rate', default=5e-5, type=float)\n",
    "#args = parser.parse_args()\n",
    "args='a'\n",
    "QA_model = QA(args)"
   ]
  },
  {
   "cell_type": "code",
   "execution_count": 6,
   "id": "472e2296-ff20-4159-a03a-06c8c1e35195",
   "metadata": {},
   "outputs": [
    {
     "data": {
      "text/plain": [
       "<All keys matched successfully>"
      ]
     },
     "execution_count": 6,
     "metadata": {},
     "output_type": "execute_result"
    }
   ],
   "source": [
    "#QA_model.load_state_dict(torch.load('./QA/Longformer_b16_lr5e-5/lightning_logs/version_1/checkpoints/last.ckpt')['state_dict'])\n",
    "QA_model.load_state_dict(torch.load('./QA/Longformer_1cycle/lightning_logs/version_2/checkpoints/checkpoints_epoch=19.ckpt')['state_dict'])"
   ]
  },
  {
   "cell_type": "code",
   "execution_count": 6,
   "id": "5c5d7882-6bf2-434c-81b6-87cb1b127cd4",
   "metadata": {},
   "outputs": [],
   "source": [
    "tokenizer = AutoTokenizer.from_pretrained('markussagen/xlm-roberta-longformer-base-4096', max_length = 4096, padding ='max_length', truncation=True)"
   ]
  },
  {
   "cell_type": "code",
   "execution_count": 9,
   "id": "2f345e9b-89da-421d-aabf-7285077d3013",
   "metadata": {},
   "outputs": [
    {
     "name": "stdout",
     "output_type": "stream",
     "text": [
      "num_data: 14027\n"
     ]
    }
   ],
   "source": [
    "# path = '../../UNILM_/data/KLUE/klue_benchmark/klue-mrc-v1.1/klue-mrc-v1.1_dev.json'\n",
    "path = '1cycle_2/QA_convert2.json'\n",
    "#path ='./klue-mrc-v1.1_train_pre.json'\n",
    "with open(path, 'r') as fr:\n",
    "    QA_json = json.load(fr)\n",
    "print('num_data:',len(QA_json))"
   ]
  },
  {
   "cell_type": "code",
   "execution_count": 9,
   "id": "104c5192-f4d7-4cf1-97df-ff15632e95df",
   "metadata": {},
   "outputs": [],
   "source": [
    "val_ratio = 0.95\n",
    "train_len = int(len(QA_json)*val_ratio)\n",
    "QA_train = QA_json[:train_len]\n",
    "QA_valid = QA_json[train_len:]"
   ]
  },
  {
   "cell_type": "code",
   "execution_count": 49,
   "id": "4dcdb39c-10d9-487b-aeb6-915f54a69107",
   "metadata": {},
   "outputs": [],
   "source": [
    "s_list=[]\n",
    "e_list=[]"
   ]
  },
  {
   "cell_type": "code",
   "execution_count": 64,
   "id": "eacc7c9b-e019-4d3f-b07a-c13b290987d9",
   "metadata": {
    "scrolled": true,
    "tags": []
   },
   "outputs": [
    {
     "name": "stdout",
     "output_type": "stream",
     "text": [
      "question: 산가 계산식은?\n",
      "answer: \\( =5.611 \\times(\\mathrm{a}-\\mathrm{b}) \\)\n",
      "1007 509\n",
      "predict: \n",
      "------------\n",
      "question: 2형 당뇨병은 당뇨병 환자 중 비율이 얼마나 돼?\n",
      "answer: \\( 95 \\% \\) 이상\n",
      "92 97\n",
      "predict: 인슐린 저항성\n",
      "------------\n",
      "question: 2형 당뇨병이 발병하는 대표적 원인은 뭐야?\n",
      "answer: 인슐린 저항성\n",
      "92 97\n",
      "predict: 인슐린 저항성\n",
      "------------\n",
      "question: \\( \\operatorname{PPAR} \\gamma \\) 작용제의 부작용이 아닌 것은 뭐지?\n",
      "answer: 인슐린 저항성을 개선\n",
      "897 431\n",
      "predict: \n",
      "------------\n",
      "question: 삼색싸리는 무엇을 억제해?\n",
      "answer: tyrosinase\n",
      "662 156\n",
      "predict: \n",
      "------------\n",
      "question: 실험에 사용된 삼색싸리는 어디서 얻었어?\n",
      "answer: 해남 달마산\n",
      "128 673\n",
      "predict: insulin receptor substrate (IRS) \\( 1 \\cdot 2 \\) tyrosine 잔기의 인산화가 증가되고, 하위신호전달인 phosphoinositide3-kinases (PI3K)/protein kinase B (AKT)의 활성화를 통하여 당 수송체 단백질인 glucose transporter type (GLUT) 4가 세포 내 원형질에서 세포막으로 이동하여 포도당을 유입하는 과정이 감소된다는 것을 의미한다. 또 다른 원인은 췌장의 베타세포 기능 저하와 관련된 인슐린 분비능의 저하가 주된 원인으로 알려져 있다. 이러한 2형 당뇨병의 치료약물로는 경구용 혈당강하제나 인슐린 저항성을 개선하는 metformin과 peroxisome proliferator-activated receptor \\( \\operatorname{(PPAR)} \\gamma \\) 작용제로 알 려진 thia-zolidinedione계의 약물이 있다. 그러나 \\( \\operatorname{PPAR} \\gamma \\) 작용제의 심부전증을 포함한 심혈관질환에 대한 안전성 뿐만 아니라, 이러한 약물로 인해 방광암 유발, 유산증, 설사, 구토, 비만 유도 등의 위험성을 오히려 증가시키는 여러 가지 부작용을 가지고 있어 큰 논란이 되고 있다. 따라서 당뇨의 예방 및 치료를 위한 약물개발이나 건강기능식품과 관련된 많은 연구가 진행되고 있고, 당뇨병의 성공적인 치료를 위하여 부작용의 위험성이 적으며 적절한 인슐린 분비 촉진 및 근육이나 지방조직의 인슐린 저항성을 개선시킬 수 있는 천연소재 개발이 요구되고 있다.</p><p>삼색싸리(Lespedeza maximowiczii var. tricolor)는 콩과(Leguminusae) 싸리속(Genus Lespedeza Michx.)에 속하는 여러해살이풀로서 중국, 일본 및 우리나라 남해안 지역에 자생하고 있는 식물이다. 예로부터 한의약학에서는 싸리속 식물을 이용하여 백반증, 요통, 당뇨병과 이로 인한 합병증으로 발병하는 콩팥병 치료 등의 치료에 쓰였다고 기록되어 있고, 민간에서는 가축 사료로 활용되었다. 현재까지 보고된 삼색싸리의 생리활성은 tyrosinase 활성 억제효과\n",
      "------------\n",
      "question: 실험에 필요한 3T3-L1 지방전구세포는 어디서 얻었어?\n",
      "answer: American Type Culture Collection\n",
      "992 511\n",
      "predict: \n",
      "------------\n",
      "question: LMTN 추출물이 발현을 증가시키지 않는 것은 뭐야?\n",
      "answer: 인슐린\n",
      "413 435\n",
      "predict: 지방전구세포를 지방세포로 분화유도 하면서 인슐린의 처리 또는 비처리 조건\n",
      "------------\n",
      "question: 당뇨병 쥐에 LMTN 추출물을 투여했을 때 감소하는 것이 아닌 것은?\n",
      "answer: 체중\n",
      "448 435\n",
      "predict: \n",
      "------------\n",
      "question: 분석법 검증을 위해 몇단계의 농도를 통해 정확성을 평가했어?\n",
      "answer: 4단계\n",
      "420 427\n",
      "predict: 일내 및 일간, 4단계\n",
      "------------\n",
      "question: Poustin-C제품의 함량 기준은 어느 정도야?\n",
      "answer: \\( 14.5 \\% \\)\n",
      "445 495\n",
      "predict: \\( 97.3 \\sim 103.4 \\% \\)의 범위안에 해당하였고, 일간(interday) 정확도는 \\( 96.0 \\sim 102.6 \\% \\)\n",
      "------------\n",
      "question: Gastrodia elata B.의 덩이줄기를 쪄서 건조한걸 뭐라고 불러?\n",
      "answer: 천마\n",
      "13 15\n",
      "predict: >천마\n",
      "------------\n",
      "question: 천마를 가열하면 뭐가 분해되지 않아?\n",
      "answer: gastrodin\n",
      "62 67\n",
      "predict: gastrodin, gastrodigenin\n",
      "------------\n",
      "question: 이번 실험에서 발효의 가공과정을 거친 천마를 투여한 후 어떤 효과를 얻었어?\n",
      "answer: 항산화, 항염증작용\n",
      "523 15\n",
      "predict: \n",
      "------------\n",
      "question: 이번 시료 제조에 사용된 천마는 뭐로 구분했어?\n",
      "answer: 천마(GR0)와 증숙 천마\n",
      "24 33\n",
      "predict: 천마(GR0)와 증숙 천마\n",
      "------------\n",
      "question: 발효한 시료는 어떤 처리를 했는가?\n",
      "answer: 동결건조\n",
      "717 720\n",
      "predict: 고형 발효\n",
      "------------\n",
      "question: 동물 실험에 사용된 시료는 어떤 발효를 진행했어?\n",
      "answer: 고형 발효\n",
      "717 720\n",
      "predict: 고형 발효\n",
      "------------\n",
      "question: 실험에 사용된 천마가 재배된 연도는?\n",
      "answer: \\(2013\\)년\n",
      "43 568\n",
      "predict: 경북 김천시 부항면 대야리 일대에서 재배된 것으로, \\(2013\\)년 \\(12\\)월에 수확된 생천마 중 상품만을 구입하여 시료제조에 사용하였다.</p><h2>시약</h2><p>미생물의 배양에 사용된 시약은 모두 Difco (Difco Laboratory, Detroit, MI, USA) 제품을 사용하였으며, 전처리에 사용된 효소 혼합액은 한국 화학연구원 융합화학연구팀에서 제공한 Cellulclast, HTec\\(2\\), Amyloglucosidase 등의 \\(1:1:1\\) 혼합액을 사용하였다.</p><p>Escherichia coli에서 얻어진 LPS (serotype (\\(\\mathrm{O}55: \\mathrm{B}5, \\mathrm{L} 2880\\)), \\(1,1\\)-diphenyl-\\(2\\)-picrylhydrazyl (DPPH)와 \\(2,2^\\prime\\)-azinobis-\\(3\\)-ethyl-benzothiazoline-\\(6\\)-sulfonic acid (ABTS)는 Sigma aldrich (St. Louise, MO, USA)에서 구입하였고, Nitrocellulose membranes는 GE Healthcare (Arlington Heights, IL, USA)에서 구입하였고, Phenylmethylsulfonyl fluoride (PMSF), nuclear factor-kappa B p\\( 65 \\) (NF-\\(\\kappa\\)B p\\( 65 \\)), Inducible nitric oxide synthase (iNOS), cyclooxygenase-\\(2\\) (COX-\\(2\\)), tumor necrosis factor alpha (TNF- \\( \\alpha \\) ), Histone, \\( \\beta \\)-actin과 \\( 2 \\)차 항체는 Santa Cruz Biotechnology (Dallas, CA, USA)로부터 구입하였으며, Activator protein-\\(1\\) (AP-\\(1\\))은 Cell signaling technology (Danvers, MA, USA)에서 구입하였다. Dimethylsulfoxide, ethylenediaminetetraacetic acid\n",
      "------------\n",
      "question: 전처리에 사용된 효소 혼합액은 어디서 제공받았어?\n",
      "answer: 한국 화학연구원 융합화학연구팀\n",
      "671 673\n",
      "predict: GE Healthcare\n",
      "------------\n",
      "question: 간 조직에 실행한 blot 처리 기법은?\n",
      "answer: western blot\n",
      "322 323\n",
      "predict: western blot\n",
      "------------\n",
      "question: GR\\(6\\)F\\(4\\) 투여군(D)에서 대조군과 비교했을 때 어떤 것의 유무가 뚜렷하게 구분되었어?\n",
      "answer: 핵\n",
      "949 974\n",
      "predict: \\( (1.23 \\pm 0.13 \\) \\((p<0.05)) \\)\n",
      "------------\n",
      "question: 간 조직에 실시한 blot 기법은?\n",
      "answer: Western blot\n",
      "153 154\n",
      "predict: Western blot\n",
      "------------\n",
      "question: LPS에 의해서 유발된 손상은 무엇인가?\n",
      "answer: 간세포손상\n",
      "787 785\n",
      "predict: \n",
      "------------\n",
      "question: 천마가 어떤 것을 억제해서 간세포 손상을 예방하는가?\n",
      "answer: 산화인자\n",
      "775 827\n",
      "predict: LPS에 의해 유발된 간세포손상에서 천마와 증숙발효 천마 투여군 모두에서 항산화 효과를 확인할 수 있었다. 천마와 증숙발효 천마는 LPS로 생성되는 산화인자를\n",
      "------------\n",
      "question: 실험에 사용한 미생물 4가지를 모두 쓰면?\n",
      "answer: Lactobacillus plantarum, Leuconostoc mesenteroides, Streptococcus thermophilus, Saccharomyces cerevisiae\n",
      "556 129\n",
      "predict: \n",
      "------------\n",
      "question: ABTS radical scavenging activity가 두번째로 높은 활성도를 보인 시료는?\n",
      "answer: GR\\(6\\)F\\(4\\)\n",
      "204 248\n",
      "predict: 라디칼 소거능이 감소하는 경향을 보였다. DPPH radical scavenging activity 에서는 가장 높은 활성도를 보인 시료는 GR\\(6\\)F\\(4\\)\n",
      "------------\n",
      "question: 천마는 몇번까지 증숙했을 때 gastrodin은 증가하고, gastrodigenin은 감소해?\n",
      "answer: \\(6\\)증\n",
      "382 899\n",
      "predict: \\(6\\)증까지 증숙 횟수가 증가할수록 gastrodin은 증가하고, gastrodigenin은 감소하는 경향을 보였다. 이는 증숙이 gastrodin 의 분해를 방지한다는 기존의 발표에 합치된다. 또한 발효한 천마 모두에서 gastrodin이 거의 검출되지 않은 것을 보아 천마의 gastrodin이 발효균주에 의해 gastrodigenin으로 전환된 것으로 사료된다.</p><p>천마와 증숙발효 천마의 성분 함량은 gastrodin의 경우 GR\\(6\\)F\\(0\\) 에서 \\( 1289.52 \\pm 98.49 \\mu \\mathrm{g} / \\mathrm{mL} \\) 로 가장 많았고, gastrodigenin은 GR\\(6\\)F\\(4\\)에서 \\( 1698.84 \\pm 18.08 \\mu \\mathrm{g} / \\mathrm{mL} \\) 로 가장 많았다.</p><p>위의 결과로 많은 유효성분을 함유하고 높은 항산화 활성을 보인 \\(6\\)회 증숙 후 \\(4\\)번 미생물(S. cerevisiae)로 발효시킨 GR\\(6\\)F\\(4\\) 가 생건 천마인 GR\\(0\\)F\\(0\\)와 함께 최종 시료로 선정하게 되었다.</p><p>최종 선정된 시료를 LPS를 이용한 급성 간손상 개선 효능평가 모델에 적용하여 간 기능 개선 효능을 평가하였다. ICR mice에 먼저 \\(8\\) 일간 경구로 GR\\(0\\)F\\(0\\)와 GR\\(6\\)F\\(4\\)를 투여하였다. 경구 투여 기간 동안의 체중변화 및 식이효율을 살펴본 결과, 실험군 모두 시간에 따른 체중이 일정하게 증가하여 GR\\(0\\)F\\(0\\) 나 GR\\(6\\)F\\(4\\)에 의한 독성은 없는 것으로 판단되었다.</p><p>혈청의 ALT, AST 활성도를 검사한 결과, 혈청 ALT 의 경우 대조군에 비해 GR\\(0\\)F\\(0\\)\n",
      "------------\n",
      "question: gastrodigenin의 성분 함량이 가장 높았던 시료는?\n",
      "answer: GR\\(6\\)F\\(4\\)\n",
      "571 606\n",
      "predict: \\( 1698.84 \\pm 18.08 \\mu \\mathrm{g} / \\mathrm{mL} \\)\n",
      "------------\n",
      "question: 최종 시료로 선정된 발효 천마 시료는?\n",
      "answer: GR\\(6\\)F\\(4\\)\n",
      "154 695\n",
      "predict: >DPPH radical scavenging activity의 경우 증숙의 횟수가 증가할수록 더 많은 활성산소 소거능을 보였으나, ABTS radical scavenging activity의 경우는 천마를 발효했을 때 라디칼 소거능이 감소하는 경향을 보였다. DPPH radical scavenging activity 에서는 가장 높은 활성도를 보인 시료는 GR\\(6\\)F\\(4\\)였다. ABTS radical scavenging activity의 경우 GR\\(0\\)F\\(0\\) 가 가장 높은 활성도를 보였고, GR\\(6\\)F\\(4\\)가 다음으로 높은 활성도를 보였다. 이는 Heo 등의 연구와 일치하게 천마가 뛰어난 항산화 효능을 가지는 결과를 나타내었고, 또한 증숙 및 발효가 ABTS radical 소거능을 유의하게 증가시키는 결과를 확인 할 수 있었다.</p><p>천마의 증숙과 발효 따른 유효성분의 함량을 살펴본 결과 천마는 \\(6\\)증까지 증숙 횟수가 증가할수록 gastrodin은 증가하고, gastrodigenin은 감소하는 경향을 보였다. 이는 증숙이 gastrodin 의 분해를 방지한다는 기존의 발표에 합치된다. 또한 발효한 천마 모두에서 gastrodin이 거의 검출되지 않은 것을 보아 천마의 gastrodin이 발효균주에 의해 gastrodigenin으로 전환된 것으로 사료된다.</p><p>천마와 증숙발효 천마의 성분 함량은 gastrodin의 경우 GR\\(6\\)F\\(0\\) 에서 \\( 1289.52 \\pm 98.49 \\mu \\mathrm{g} / \\mathrm{mL} \\) 로 가장 많았고, gastrodigenin은 GR\\(6\\)F\\(4\\)에서 \\( 1698.84 \\pm 18.08 \\mu \\mathrm{g} / \\mathrm{mL} \\) 로 가장 많았다.</p><p>위의 결과로 많은 유효성분을 함유하고 높은 항산화 활성을 보인 \\(6\\)회 증숙 후 \\(4\\)번 미생물(S. cerevisiae)로 발효시킨 GR\\(6\\)F\\(4\\) 가 생건 천마인 GR\\(0\\)F\\(0\\)\n",
      "------------\n",
      "question: 전자공여능은 어떤 방법으로 측정하는가?\n",
      "answer: DPPH radical 소거법\n",
      "31 36\n",
      "predict: DPPH radical 소거법\n",
      "------------\n",
      "question: 일정 농도의 시료 \\( 100 \\mu \\mathrm{L} \\) 와 \\( 60 \\mu \\mathrm{M} \\) DPPH용액(dissolved in ethanol) \\( 100 \\mu \\mathrm{L} \\) 를 넣고 혼합한 후, 실온에서 몇 분 동안 반응시킵니까?\n",
      "answer: \\(30\\)분\n",
      "209 215\n",
      "predict: \\(30\\)분\n",
      "------------\n",
      "question: 시료와 DPPH용액을 혼합한 이 반응액을 사용하여 어느 파장에서 흡광도를 측정한 후, DPPH radical 소거능을 계산하여 산출할 수 있는가?\n",
      "answer: \\( 540 \\mathrm{~nm} \\)\n",
      "750 998\n",
      "predict: >천마의 분석에 사용한 표준품은 식품의약품안전청의 한약재 과학화연구사업단 이화여자대학교 서은경 교수로부터 천마에서 분리한 gastrodin, gastrodigenin 2종을 제공받아 사용하였다.</p><h2>LPS에 의한 급성 간손상 개선 효능평가</h2><p>ICR mice (\\(6\\)주령, 수컷)로부터 아무런 처치를 하지 않은 정상군, LPS를 처치한 대조군, GR\\(0\\)F\\(0\\) \\( 200 \\mathrm{mg} / \\mathrm{kg} \\) 의 용량을 \\(1\\) 일 \\(1\\)회, \\(8\\)일간 경구 투여한 GR\\(0\\)F\\(0\\)투여군, 그리고 GR\\(6\\)F\\(4\\) \\( 200 \\mathrm{mg} / \\mathrm{</s></s> 시료와 DPPH용액을 혼합한 이 반응액을 사용하여 어느 파장에서\n",
      "------------\n",
      "question: ABTS 라디칼 소거능을 계산할 때 흡광도를 보정한 후, 어떻게 흡광도를 측정하여 산출하는가?\n",
      "answer: ABTS \\( 95 \\mu \\mathrm{L} \\) 에 시료 \\( 5 \\mu \\mathrm{L} \\) 을 첨가하여 \\(15\\)분 반응 후, \\(415 \\mathrm{nm} \\) 에서 흡광도를 측정하여 ABTS 라디칼 소거능을 계산하여 산출\n",
      "984 477\n",
      "predict: \n",
      "------------\n",
      "question: HPLC 분석에 사용한 이동상의 유속은 얼마인가?\n",
      "answer: \\( 1.0 \\mathrm{~mL} / \\mathrm{min} \\)\n",
      "524 51\n",
      "predict: \n",
      "------------\n",
      "question: 실험 9일째, ICR mice의 심장에서 혈액을 채취하기 위해 흡입 마취를 한다. 이 때 무엇을 이용하여서 흡입 마취를 하는가?\n",
      "answer: ethyl ether\n",
      "991 376\n",
      "predict: \n",
      "------------\n",
      "question: 실험동물의 체중 증가량은 어떻게 산출하는가?\n",
      "answer: 실험동물의 체중은 전자체중계로 \\(1\\)회/\\(1\\)일으로 동일 시간 동일 조건에서 측정하였고, 실험종료일 체중에서 실험 개시 전 체중을 빼서 체중 증가량(body weight gain \\( (\\mathrm{g}) \\) )을 산출\n",
      "1012 495\n",
      "predict: \n",
      "------------\n",
      "question: 각 쥐의 체중증가량을 동일 사육기간의 사료섭취량으로 나누어서 구할 수 있는 것은?\n",
      "answer: 식이효율\n",
      "286 47\n",
      "predict: \n",
      "------------\n",
      "question: ICR mice를 이용하여 LPS에 의한 급성 간손상 개선 효능평가 실험을 하였는데 이 때, 실험그룹을 총 몇 그룹으로 분류하였으며 각 군에 몇 마리씩 배정되었는가?\n",
      "answer: 총 \\(4\\) 그룹으로 분류하였으며, 각 군에 \\(6\\) 마리씩 배정\n",
      "355 259\n",
      "predict: \n",
      "------------\n",
      "question: DPPH radical 소거법은 어떻게 시료중에 포함된 항산화 물질의 양을 측정하는가?\n",
      "answer: 용액은 짙은 보라색(deep violet)으로 시료 중에 있는 항산화 물질과 결합하여 중화(환원)가 되면 용액은 투명하게 변하므로\n",
      "18 96\n",
      "predict: >전자공여능(electron donating ability)은 DPPH radical 소거법으로 측정하였다. DPPH는 프리라디칼(free radical)이며, 용액은 짙은 보라색(deep violet)으로 시료 중에 있는 항산화 물질과 결합하여 중화(환원)가 되면 용액은 투명하게 변하므로\n",
      "------------\n",
      "question: 연구를 위해 생 천마(GR\\(0\\)F\\(0\\))와 몇 회 증숙하는가?\n",
      "answer: \\(6\\) 회 증숙\n",
      "107 112\n",
      "predict: \\(6\\) 회\n",
      "------------\n"
     ]
    }
   ],
   "source": [
    "idx =16\n",
    "for idx in range(0,40):#1903,len(jdata['data'])):\n",
    "    #print(idx)\n",
    "    elem = QA_valid[idx]\n",
    "    context = elem['context']\n",
    "    que = elem['question']\n",
    "    \n",
    "    ans = context[elem['start']:elem['end']]\n",
    "    \n",
    "    print('question:',que)\n",
    "    print('answer:',ans)\n",
    "\n",
    "    inputs = tokenizer(context, que, return_tensors='pt',\n",
    "                       truncation=True,\n",
    "                       max_length=1024,\n",
    "                       padding='max_length',\n",
    "                       add_special_tokens=True)\n",
    "    QA_model.model.eval()\n",
    "    with torch.no_grad():\n",
    "        result = QA_model.model(**inputs)\n",
    "        start_idx = result.start_logits.argmax()\n",
    "        end_idx = result.end_logits.argmax()\n",
    "        s_list.append(start_idx)\n",
    "        e_list.append(end_idx)\n",
    "        print(start_idx.item(), end_idx.item())\n",
    "        predict_answer_tokens=inputs.input_ids[0,start_idx:end_idx+1]\n",
    "        print('predict:',tokenizer.decode(predict_answer_tokens))\n",
    "        print('------------')"
   ]
  },
  {
   "cell_type": "markdown",
   "id": "0bbfc031-5b54-45fe-9f74-4d8659e37bc3",
   "metadata": {},
   "source": [
    "### f1-score, EM 계산"
   ]
  },
  {
   "cell_type": "code",
   "execution_count": 12,
   "id": "654df14c-6adc-46e6-b682-22efd54a5782",
   "metadata": {},
   "outputs": [
    {
     "name": "stdout",
     "output_type": "stream",
     "text": [
      "The autoreload extension is already loaded. To reload it, use:\n",
      "  %reload_ext autoreload\n"
     ]
    }
   ],
   "source": [
    "%load_ext autoreload\n",
    "%autoreload 2\n",
    "from QA_longformer import QA_dataset, QA_F1, EM\n",
    "from torch.utils.data import Dataset, DataLoader\n",
    "from collections import Counter\n",
    "import numpy as np"
   ]
  },
  {
   "cell_type": "code",
   "execution_count": 102,
   "id": "94369b9f-7503-40df-96c2-ee6a4d875627",
   "metadata": {},
   "outputs": [
    {
     "data": {
      "text/plain": [
       "{'context': '<h1>제\\\\(1\\\\)장 쌍곡 기하학</h1><p>역사적으로 유클리드 기하학의 평행공준 \\\\( \\\\mathrm{V} \\\\)(힐베르트의 평행공리)를 다른 공리군을 사용하여 명하고자 시도한 것이 비유클리드 기하학의 연구의 발단이었다. 평행공리를 부정했을 때 다른 공리군들이 서로 모순 없이 성립하는 기하학 모형을 제시함으로써 평행공리가 다른 공리군들로부터 독립적이라는 것을 알게 되었다. 이러한 기하학은 유를리드 기하학이 아닌 비유클리드 기하학이다.</p><h2>1.1 평행공리</h2><p>유클리드 평행공준 \\\\( \\\\mathrm{V} \\\\)는 다음 힐베르트의 평행공리와 동치이다.</p><p>힐베르트 평행공리: 직선 \\\\( l \\\\)과 \\\\( l \\\\) 위에 있지 않는 점 \\\\( P \\\\)가 주어질 때, 점 \\\\( P \\\\)를 지나면서 \\\\( l \\\\)과 만나지 않는 직선 \\\\( m \\\\)은 유일하게 존재한다.</p><p>힐베르트의 평행공리의 부정명제는 다음 두 공리 중 하나이다.</p><p>타원공리(elliptic axiom): 직선 \\\\( l \\\\)과 \\\\( l \\\\) 위에 있지 않는 점 \\\\( P \\\\)가 주어질 때, 점 \\\\( P \\\\)를 지나면서 \\\\( l \\\\)과 만나지 않는 직선 \\\\( m \\\\)은 존재하지 않는다.</p><p>쌍곡공리(hyperbolic axiom): 직선 \\\\( l \\\\)과 \\\\( l \\\\) 위에 있지 않는 점 \\\\( P \\\\)가 주어질 때, 점 \\\\( P \\\\)를 지나면서 \\\\( l \\\\)과 만나지 않는 직선 \\\\( m \\\\)은 \\\\( 2 \\\\)개 이상 존재한다.</p><p>유클리드 평행공준 \\\\( \\\\mathrm{V} \\\\)를 부정하여 타원공리를 선택한 기하학을 타원기하학(elliptic geometry)이라 하고, 쌍곡공리를 선택한 기하학을 쌍곡기하학(hyperbolic geometry)이라 한다.</p><h2>1.2 쌍곡기하학의 모형</h2><p>\\\\((1)\\\\) 클라인 모형</p><p>유클리드 평면 안에 하나의 원 \\\\( \\\\gamma \\\\)를 고정하자. 만일 \\\\( O \\\\)가 \\\\( \\\\gamma \\\\)의 중심이고 \\\\( O R \\\\)이 반경이면, \\\\( \\\\gamma \\\\)의 내부는 정의에 의하여 \\\\( \\\\overline{O X}<\\\\overline{O R} \\\\)인 점 \\\\( X \\\\)들로 구성된다. 클라인(Klein) 모형에서 \\\\( \\\\gamma \\\\)의 내부의 점들은 쌍곡평면의 점을 나타낸다.</p><p>\\\\( \\\\gamma \\\\)의 한 현은 \\\\( \\\\gamma \\\\) 위의 두 점 \\\\( A \\\\)와 \\\\( B \\\\)를 연결하는 선분 \\\\( A B \\\\)이다. 이때, 끝점을 포함하지 않는 선분을 열린현(open chord)이라고 하고 이를 \\\\( A) \\\\)\\\\((B\\\\)로 나타낸다. 클라인 모형에서 \\\\( \\\\gamma \\\\)의 열린현들은 쌍곡평면의 직선을 나타낸다. \"위에 있다\"는 관계는 통상적인 의미로 표현한다. 즉, 점 \\\\( P \\\\)가 직선 \\\\( A)(B \\\\) 위에 있다는 것은 \\\\( P \\\\)가 유클리드 직선 \\\\( \\\\overleftrightarrow{A B} \\\\)에 있고 \\\\( P \\\\)가 \\\\( A \\\\)와 \\\\( B \\\\) 사이에 있다는 것을 의미한다. 쌍곡관계 \"사이\"는 통상적인 유클리드 관계 \"사이\"를 말한다. \"합동\"에 대한 표현은 다소 복잡한데 이것은 나중에 논할 것이다.</p><p>쌍곡공리가 클라인 모형에서 성립한다는 것은 다음 그림으로부터 명백히 알 수 있다.</p><p>여기서 \\\\( P \\\\)를 지나는 두 개의 열린현 \\\\( m \\\\)과 \\\\( n \\\\)은 열린현 \\\\( l \\\\)과 모두 평행이다. \\'평행\\'이란 정의는 두 직선이 어떤 공유점도 갖지 않을 때를 말한다. 클라인 모형에서 \\\\( 2 \\\\)개의 열린현이 어떤 공유점도 갖지 않을 때, 그 열린현들은 평행이다.</p><p>클라인 모형의 한 가지 홀륭한 점은 극한평행반직선을 보여 주기가 쉽다는 것이다.</p><p>\\\\( P \\\\)가 \\\\( \\\\gamma \\\\)의 내부에 있으면서 열린현 \\\\( A)(B \\\\) 위에 있지 않는 점이라고 하자. \\\\( A \\\\)와 \\\\( B \\\\)는 원 위의 점이므로 그 점들은 쌍곡평면에 있는 점이 아니다. 이러한 점들을 이상점(ideal point)이라 말하고 열린현 \\\\( A)(B \\\\)에 의해 표시된 쌍곡직선의 끝(ends)이라고 한다.</p><p>점 \\\\( P \\\\)를 지나는 \\\\( A)(B \\\\)의 극한평행반직선은 끝점 \\\\( A \\\\)와 \\\\( B \\\\)가 빠진 선분 \\\\( P](A \\\\)와 \\\\( P](B \\\\)로 나타낸다. 이 극한평행반직선 사이의 모든 반직선은 열린현 \\\\( A)(B \\\\)와 교차하게 되고, \\\\( P \\\\)로부터 방사된 모든 다른 반직선은 분명히 \\\\( A)(B \\\\)와 교차하지 않는다. 클라인 모형에서 극한평행반직선의 대칭성과 추이성은 명백하다. 또한 클라인 모형에서 모든 각이 폐형선을 갖는다는 사실도는 명백하다. 즉, \\\\( \\\\angle Q P R \\\\)이 주어졌을 때 \\\\( A \\\\)가 \\\\( \\\\overrightarrow{P Q} \\\\)의 끝이고 \\\\( B \\\\)가 \\\\( \\\\overrightarrow{P R} \\\\)의 끝이면 \\\\( A)(B \\\\)는 \\\\( \\\\angle Q P R \\\\)의 폐형선(line of enclosure)이다.</p><p >\\\\( \\\\cdot \\\\) 클라인 모형에서 직선의 수직</p><p>클라인 모형은 등각적이 아니다. 각의 합동은 통상적인 유클리드 방식과 다르게 해석되는데 그것은 나중에 설명하기로 하자. 여기서 보각과 합동인 각인 직각만을 설명하기로 한다.</p><p>\\\\( l \\\\)과 \\\\( m \\\\)이 원 \\\\( \\\\gamma \\\\)의 열린현이라고 하자. 클라인 모형에서 \\\\( l \\\\perp m \\\\)일 때를 설명하기 위해서는 다음 두 가지 경우를 생각해야 한다.</p><p>경우 \\\\( 1 \\\\). \\\\( l \\\\)과 \\\\( m \\\\) 중 적어도 하나가 직경일 때, 클라인 의미에서 \\\\( l \\\\perp m \\\\)이라는 것은 유클리드 의미에서 \\\\( l \\\\perp m \\\\)인 것을 말한다.<p>\\\\( l \\\\)이 원 \\\\( \\\\gamma \\\\)의 직경이 아닌 열린현일 때, \\\\( \\\\gamma \\\\)에 대한 \\\\( l \\\\)의 극(pole)이란 \\\\( l \\\\)의 끝점에서 \\\\( \\\\gamma \\\\)의 접선 \\\\( t_{1}, t_{2} \\\\)가 만나는 유일한 점 \\\\( P(l) \\\\)을 말한다. \\\\( l \\\\)이 직경이 아니므로 \\\\( t_{1} \\\\)과 \\\\( t_{2} \\\\)는 평행이 아니다.</p><p>경우 \\\\( 2 \\\\). \\\\( l \\\\)과 \\\\( m \\\\)이 모두 원 \\\\( \\\\gamma \\\\)의 직경이 아닌 열린현일 때, 클라인 모형에서 \\\\( l \\\\)이 \\\\( m \\\\)과 수직이라는 것은 \\\\( m \\\\)을 연장한 유클리드 직선이 \\\\( \\\\gamma \\\\)에 대한 \\\\( l \\\\)의 극 \\\\( P(l) \\\\)을 지날 때를 말한다.</p><p>다음 그림은 클라인 모형에서 그러한 공통수선을 찾는 것을 보여주고 있다.</p><p>다음 그림은 적어도 \\\\( 3 \\\\)개의 직각을 갖는 램버트(Lambert) 사변형을 보여준다.</p><p>클라인 모형에서 직선의 쌍에 대한 움직임을 묘사할 수 있는 좋은 용어가 있다.</p><p>원 \\\\( \\\\gamma \\\\)의 내부에 있는 점들을 통상점(ordinary point), \\\\( \\\\gamma \\\\) 위의 점들을 이상점(ideal point), \\\\( \\\\gamma \\\\)의 외부에 있는 점들을 초-이상점(ultra-ideal point)이라고 한다. 마지막으로, \\\\( \\\\gamma \\\\)의 직경에 대하여 이 직경에 대응하는 유클리드 직선은 \\'무한원점\\' \\\\( \\\\infty \\\\) 에서 만난다. 이러한 무한원점도 초-이상점이라고 한다.</p><p>그러면 두 클라인 직선이 교차하는지 또는 점근평행인지 또는 발산평행인지에 따라 각각 그들이 통상점, 또는 이상점, 또는 초-이상점에서 \"만난다\"고 말한다.</p><p>발산평행인 클라인 직선 \\\\( l \\\\)과 \\\\( m \\\\)이 \\'만나는\\' 초-이상점은 바로 그들의 공통수선 \\\\( k \\\\)의 극 \\\\( P(k) \\\\)이다.</p><p>이 용어는 쌍곡기하학에서의 더 진보된 정리들을 암시해 준다. 예를 들어, 두 통상점이 유일한 직선을 결정한다는 것을 알고 있다. 두 초-이상점 또는 서로 다른 종류의 두 점에 관하여 동일한 질문을 던질 수 있다. 예를 들어, 통상점과 이상점, 또는 통상점과 초-이상점은 항상 유일한 직선을 결정하지만, 두 초-이상점은 그럴 수도 있고 그렇지 않을 수도 있다.</p><p>이 용어로부터 통상점 \\\\( O \\\\)와 클라인 직선 \\\\( l \\\\)의 극인 초-이상점 \\\\( P(l) \\\\)을 \"연결한\" 클라인 직선 \\\\( m \\\\)은 클라인 모형의 의미에서 직선 \\\\( l \\\\)과 수직인 \\\\( O \\\\)를 지나는 유일한 클라인 직선이다.</p>',\n",
       " 'question': '그러면 두 클라인 직선이 발산평행일 때 어디에서 \"만난다\"고 할 수 있는 가?',\n",
       " 'start': 3508,\n",
       " 'end': 3513,\n",
       " 'ans': '초-이상점'}"
      ]
     },
     "execution_count": 102,
     "metadata": {},
     "output_type": "execute_result"
    }
   ],
   "source": [
    "QA_train[0]"
   ]
  },
  {
   "cell_type": "code",
   "execution_count": 115,
   "id": "e82744ca-9ba1-42e5-8d9d-6e78dc284e0c",
   "metadata": {},
   "outputs": [
    {
     "name": "stderr",
     "output_type": "stream",
     "text": [
      "100%|██████████| 14027/14027 [01:19<00:00, 177.55it/s]\n"
     ]
    }
   ],
   "source": [
    "ed_token_idx_list = []\n",
    "for data in tqdm(QA_json):\n",
    "    context = data['context']\n",
    "    inputs = tokenizer(context, data['question'],\n",
    "                            return_tensors=\"pt\",\n",
    "                            add_special_tokens=True)\n",
    "    target = inputs[\"input_ids\"].squeeze()\n",
    "    if data['start'] == -1:\n",
    "        st_idx = 0\n",
    "    else:\n",
    "        st_idx = data['start']\n",
    "    ed_idx = data['end']\n",
    "\n",
    "    lst = tokenizer.tokenize(data['context'])\n",
    "    before = context[:st_idx]\n",
    "    ans = context[st_idx:ed_idx]\n",
    "    before_token = tokenizer.tokenize(before)\n",
    "    ans_token = tokenizer.tokenize(ans)\n",
    "    \n",
    "    ed_token_idx = len(before_token)+len(ans_token)\n",
    "    ed_token_idx_list.append({'ed_token_idx':ed_token_idx,\n",
    "                              'context_len':len(target),\n",
    "                             })"
   ]
  },
  {
   "cell_type": "code",
   "execution_count": 100,
   "id": "24f114ba-6131-40f8-9a81-a8ed2101bbb7",
   "metadata": {},
   "outputs": [
    {
     "data": {
      "image/png": "[encoded data removed]",
      "text/plain": [
       "<Figure size 432x288 with 1 Axes>"
      ]
     },
     "metadata": {
      "needs_background": "light"
     },
     "output_type": "display_data"
    }
   ],
   "source": [
    "import matplotlib.pyplot as plt\n",
    "len_list.sort()\n",
    "plt.plot(len_list)\n",
    "plt.show()"
   ]
  },
  {
   "cell_type": "code",
   "execution_count": 118,
   "id": "93bce047-a263-4895-b962-5c5402b751d0",
   "metadata": {},
   "outputs": [],
   "source": [
    "aa = [i for i, e in enumerate(ed_token_idx_list) if e['ed_token_idx']>=4096]"
   ]
  },
  {
   "cell_type": "code",
   "execution_count": 122,
   "id": "a7c4fc83-7bd8-4233-a7df-d24126a7a629",
   "metadata": {},
   "outputs": [],
   "source": [
    "filtered_json = [e for i, e in enumerate(QA_json) if i not in aa]"
   ]
  },
  {
   "cell_type": "code",
   "execution_count": 123,
   "id": "f3468a0e-ae3f-4537-b9d0-f7be4ff02c30",
   "metadata": {},
   "outputs": [
    {
     "data": {
      "text/plain": [
       "14014"
      ]
     },
     "execution_count": 123,
     "metadata": {},
     "output_type": "execute_result"
    }
   ],
   "source": [
    "len(filtered_json)"
   ]
  },
  {
   "cell_type": "code",
   "execution_count": 128,
   "id": "685b0d50-9df0-4a70-a60e-2dcf2692d5ba",
   "metadata": {},
   "outputs": [
    {
     "data": {
      "image/png": "[encoded data removed]",
      "text/plain": [
       "<Figure size 432x288 with 1 Axes>"
      ]
     },
     "metadata": {
      "needs_background": "light"
     },
     "output_type": "display_data"
    }
   ],
   "source": [
    "ed_list2 = [e['ed_token_idx'] for i, e in enumerate(ed_token_idx_list) if e['ed_token_idx']<4096]\n",
    "ed_list2.sort()\n",
    "plt.plot(ed_list2)\n",
    "plt.show()"
   ]
  },
  {
   "cell_type": "code",
   "execution_count": 8,
   "id": "927642a2-e1e3-4dd7-b866-3e2b03ffccf1",
   "metadata": {},
   "outputs": [],
   "source": [
    "from QA_longformer import filter_data"
   ]
  },
  {
   "cell_type": "code",
   "execution_count": 11,
   "id": "d60167db-b61f-4068-bdfe-02c4dfe73270",
   "metadata": {},
   "outputs": [
    {
     "name": "stderr",
     "output_type": "stream",
     "text": [
      "  0%|          | 13/14027 [00:00<01:48, 129.55it/s]Token indices sequence length is longer than the specified maximum sequence length for this model (5547 > 4096). Running this sequence through the model will result in indexing errors\n",
      "100%|██████████| 14027/14027 [00:48<00:00, 290.93it/s]\n"
     ]
    }
   ],
   "source": [
    "new_json = filter_data(QA_json, tokenizer, 2048)"
   ]
  },
  {
   "cell_type": "code",
   "execution_count": 13,
   "id": "8f516dd1-e305-478d-bd2b-15280d98cda9",
   "metadata": {},
   "outputs": [
    {
     "data": {
      "text/plain": [
       "(13543, 14027)"
      ]
     },
     "execution_count": 13,
     "metadata": {},
     "output_type": "execute_result"
    }
   ],
   "source": [
    "len(new_json), len(QA_json)"
   ]
  },
  {
   "cell_type": "code",
   "execution_count": 15,
   "id": "26604b6c-f652-4a92-8c55-e71801b36517",
   "metadata": {},
   "outputs": [],
   "source": [
    "with open('1cycle_2/QA_convert2048.json','w') as f:\n",
    "    json.dump(new_json,f)"
   ]
  },
  {
   "cell_type": "code",
   "execution_count": 64,
   "id": "791b8c15-b034-44f4-9b0f-4852c25c270c",
   "metadata": {},
   "outputs": [],
   "source": [
    "QA_valid_dataset = QA_dataset(QA_valid, tokenizer, 4096)\n",
    "QA_valid_dataloader = DataLoader(QA_valid_dataset, batch_size=1, shuffle=False)"
   ]
  },
  {
   "cell_type": "code",
   "execution_count": 95,
   "id": "fcebc656-46eb-4b7c-8a83-44822154fdc6",
   "metadata": {},
   "outputs": [
    {
     "name": "stderr",
     "output_type": "stream",
     "text": [
      " 39%|███▊      | 272/702 [00:20<00:31, 13.59it/s]\n"
     ]
    },
    {
     "ename": "KeyboardInterrupt",
     "evalue": "",
     "output_type": "error",
     "traceback": [
      "\u001b[0;31m---------------------------------------------------------------------------\u001b[0m",
      "\u001b[0;31mKeyboardInterrupt\u001b[0m                         Traceback (most recent call last)",
      "\u001b[0;32m<ipython-input-95-d932456f7905>\u001b[0m in \u001b[0;36m<module>\u001b[0;34m\u001b[0m\n\u001b[1;32m     12\u001b[0m         \u001b[0mpred_st\u001b[0m \u001b[0;34m=\u001b[0m \u001b[0moutputs\u001b[0m\u001b[0;34m.\u001b[0m\u001b[0mstart_logits\u001b[0m\u001b[0;34m.\u001b[0m\u001b[0margmax\u001b[0m\u001b[0;34m(\u001b[0m\u001b[0;34m)\u001b[0m\u001b[0;34m\u001b[0m\u001b[0;34m\u001b[0m\u001b[0m\n\u001b[1;32m     13\u001b[0m         \u001b[0mpred_end\u001b[0m \u001b[0;34m=\u001b[0m \u001b[0moutputs\u001b[0m\u001b[0;34m.\u001b[0m\u001b[0mend_logits\u001b[0m\u001b[0;34m.\u001b[0m\u001b[0margmax\u001b[0m\u001b[0;34m(\u001b[0m\u001b[0;34m)\u001b[0m \u001b[0;34m+\u001b[0m \u001b[0;36m1\u001b[0m\u001b[0;34m\u001b[0m\u001b[0;34m\u001b[0m\u001b[0m\n\u001b[0;32m---> 14\u001b[0;31m         \u001b[0mpred\u001b[0m \u001b[0;34m=\u001b[0m \u001b[0mtarget\u001b[0m\u001b[0;34m[\u001b[0m\u001b[0;36m0\u001b[0m\u001b[0;34m]\u001b[0m\u001b[0;34m[\u001b[0m\u001b[0mpred_st\u001b[0m\u001b[0;34m:\u001b[0m\u001b[0mpred_end\u001b[0m\u001b[0;34m]\u001b[0m\u001b[0;34m.\u001b[0m\u001b[0mdetach\u001b[0m\u001b[0;34m(\u001b[0m\u001b[0;34m)\u001b[0m\u001b[0;34m.\u001b[0m\u001b[0mtolist\u001b[0m\u001b[0;34m(\u001b[0m\u001b[0;34m)\u001b[0m\u001b[0;34m\u001b[0m\u001b[0;34m\u001b[0m\u001b[0m\n\u001b[0m\u001b[1;32m     15\u001b[0m         \u001b[0mtruth\u001b[0m \u001b[0;34m=\u001b[0m \u001b[0mtarget\u001b[0m\u001b[0;34m[\u001b[0m\u001b[0;36m0\u001b[0m\u001b[0;34m]\u001b[0m\u001b[0;34m[\u001b[0m\u001b[0mstart\u001b[0m\u001b[0;34m:\u001b[0m\u001b[0mend\u001b[0m\u001b[0;34m]\u001b[0m\u001b[0;34m.\u001b[0m\u001b[0mdetach\u001b[0m\u001b[0;34m(\u001b[0m\u001b[0;34m)\u001b[0m\u001b[0;34m.\u001b[0m\u001b[0mtolist\u001b[0m\u001b[0;34m(\u001b[0m\u001b[0;34m)\u001b[0m\u001b[0;34m\u001b[0m\u001b[0;34m\u001b[0m\u001b[0m\n\u001b[1;32m     16\u001b[0m         \u001b[0mpred_txt\u001b[0m \u001b[0;34m=\u001b[0m \u001b[0mtokenizer\u001b[0m\u001b[0;34m.\u001b[0m\u001b[0mdecode\u001b[0m\u001b[0;34m(\u001b[0m\u001b[0mpred\u001b[0m\u001b[0;34m)\u001b[0m\u001b[0;34m\u001b[0m\u001b[0;34m\u001b[0m\u001b[0m\n",
      "\u001b[0;31mKeyboardInterrupt\u001b[0m: "
     ]
    }
   ],
   "source": [
    "my_list = []\n",
    "QA_model.model.eval()\n",
    "QA_model.model.to(device)\n",
    "with torch.no_grad():\n",
    "    for val_batch in tqdm(QA_valid_dataloader):\n",
    "        target, attention_mask, start, end = val_batch\n",
    "        target = target.to(device)\n",
    "        attention_mask = attention_mask.to(device)\n",
    "        start = start.to(device)\n",
    "        end = end.to(device)\n",
    "        outputs = QA_model.model(input_ids = target, attention_mask = attention_mask, start_positions=start, end_positions=end)\n",
    "        pred_st = outputs.start_logits.argmax()\n",
    "        pred_end = outputs.end_logits.argmax() + 1\n",
    "        pred = target[0][pred_st:pred_end].detach().tolist()\n",
    "        truth = target[0][start:end].detach().tolist()\n",
    "        pred_txt = tokenizer.decode(pred)\n",
    "        truth_txt = tokenizer.decode(truth)\n",
    "        em = EM(truth, pred)\n",
    "        f1 = QA_F1(truth, pred)\n",
    "        my_list.append({'pred_txt':pred_txt,'truth_txt':truth_txt,\n",
    "                        'em': em ,'f1':f1,\n",
    "                        'pred':pred,'truth':truth\n",
    "                       })"
   ]
  },
  {
   "cell_type": "code",
   "execution_count": null,
   "id": "2c7d93e3-da6a-492e-9f56-e5131b254fec",
   "metadata": {},
   "outputs": [],
   "source": [
    "my_list[15]"
   ]
  },
  {
   "cell_type": "code",
   "execution_count": 98,
   "id": "65003084-3930-4fb6-af23-fbee19dd976a",
   "metadata": {},
   "outputs": [
    {
     "data": {
      "text/plain": [
       "4096"
      ]
     },
     "execution_count": 98,
     "metadata": {},
     "output_type": "execute_result"
    }
   ],
   "source": [
    "len(QA_valid_dataset[15][0])"
   ]
  },
  {
   "cell_type": "code",
   "execution_count": 87,
   "id": "226be1dc-27dc-480d-a35d-607f7ecec76d",
   "metadata": {},
   "outputs": [
    {
     "data": {
      "text/plain": [
       "(tensor([   0, 4426,  127,  ...,    1,    1,    1]),\n",
       " tensor([1, 1, 1,  ..., 0, 0, 0]),\n",
       " tensor(1109),\n",
       " tensor(1112))"
      ]
     },
     "execution_count": 87,
     "metadata": {},
     "output_type": "execute_result"
    }
   ],
   "source": [
    "QA_valid_dataset[15][0]"
   ]
  },
  {
   "cell_type": "code",
   "execution_count": 88,
   "id": "85912f0a-7a6d-44c8-8d5d-af1a47b8cd95",
   "metadata": {},
   "outputs": [
    {
     "data": {
      "text/plain": [
       "tensor([ 8354, 25354, 12322])"
      ]
     },
     "execution_count": 88,
     "metadata": {},
     "output_type": "execute_result"
    }
   ],
   "source": [
    "QA_valid_dataset[15][0][1109:1112]"
   ]
  },
  {
   "cell_type": "code",
   "execution_count": 92,
   "id": "655a19ec-add8-4e51-918c-744e55fb87d4",
   "metadata": {},
   "outputs": [
    {
     "data": {
      "text/plain": [
       "'Korea), 항'"
      ]
     },
     "execution_count": 92,
     "metadata": {},
     "output_type": "execute_result"
    }
   ],
   "source": [
    "tokenizer.decode(QA_valid_dataset[17][0][1109:1112])"
   ]
  },
  {
   "cell_type": "code",
   "execution_count": 79,
   "id": "b1466031-a643-4107-93ca-61d570be8859",
   "metadata": {},
   "outputs": [
    {
     "data": {
      "text/plain": [
       "4"
      ]
     },
     "execution_count": 79,
     "metadata": {},
     "output_type": "execute_result"
    }
   ],
   "source": [
    "len(tokenizer.tokenize('동결건조'))"
   ]
  },
  {
   "cell_type": "code",
   "execution_count": 81,
   "id": "40b36515-4476-420c-b15c-d93ec0f465ae",
   "metadata": {},
   "outputs": [
    {
     "data": {
      "text/plain": [
       "{'context': '<h2>시료제조</h2><p>시료 제조에 사용된 천마는 천마(GR0)와 증숙 천마로 구분 하였고, 증숙 천마는 \\\\(1\\\\)증(GR\\\\(1\\\\)), \\\\(3\\\\)증(GR\\\\(3\\\\)), \\\\(6\\\\)증(GR\\\\(6\\\\)), \\\\(9\\\\)증(GR\\\\(9\\\\)) 천마까지 제조하였다.</p><p>천마는 세척 후 일정 크기로 절단하여 건조기에서 건조하였고, 증숙 천마는 \\\\(1\\\\)증부터 \\\\(9\\\\)증까지 일정한 시간동안 증숙하였고, 증숙 후 건조하여 증숙 횟수를 반복하였다. 증숙은 무압식 스팀증숙기를 사용하여 증숙온도 \\\\( 90^{\\\\circ} \\\\mathrm{C} \\\\) 에서 \\\\(2\\\\)시간씩 물로 증숙하였고, 건조는 밀폐제습식 건조기를 사용하여 수분함량 \\\\( 15 \\\\% \\\\) 미만으로 \\\\(4\\\\)시간 동안 건조하였다. 천마의 발효에 사용된 균주는 Lactobacillus plantarum (F\\\\(1\\\\)), Leuconostoc mesenteroides (F\\\\(2\\\\)), Streptococcus thermophilus (F\\\\(3\\\\)), Saccharomyces cerevisiae (F\\\\(4\\\\))로 대전대학교 미생명생물공학과 이찬용 교수로부터 받아 사용하였다. 발효 천마의 항산화 활성 및 성분 분석을 위한 시료는 액상발효를 시행하였다. 사각 투명 밀폐용기에 각각 라벨을 붙이고, 시료를 각각 \\\\( 5 \\\\mathrm{~g} \\\\) 씩 넣은 후, \\\\( 45 \\\\mathrm{~mL} \\\\) 의 멸균 증류수를 첨가하여 현탁하였다 \\\\( (10 \\\\% \\\\mathrm{w} / \\\\mathrm{v}) \\\\). 시료가 포함된 용기마다 미리 혼합된 복합효소액 \\\\( 0.5 \\\\mathrm{~mL} \\\\) 를 첨가하고 \\\\(24\\\\) 시간 반응시켰다. 시료에 따라 정해진 균주 현탁액을 \\\\( 0.5 \\\\mathrm{~mL} \\\\) 씩 접종하여 섭씨 \\\\( 35^{\\\\circ} \\\\mathrm{C} \\\\) 인큐베이터에서 정치 배양하였다. 접종시 균주의 농도는 생육에 따라 가감하여 \\\\( 10^{7}-10^{8} \\\\) cells \\\\( / \\\\mathrm{mL} \\\\) 정도로 하였다. 샘플에 따라 간헐적으로 흔들어 주었다. 이후 매일 같은 시간에 발효 상태 \\\\( (\\\\mathrm{pH}) \\\\) 를 확인하고 발효의 지속여부를 결정하였다.</p><p>동물 실험에 사용된 시료는 고형 발효를 시행하였다. 사각 투명 밀폐용기에 각각 라벨을 붙이고, 시료를 샘플 하나당 \\\\(2\\\\) 개씩 각각 \\\\( 50 \\\\mathrm{~g} \\\\) 씩 총 \\\\( 100 \\\\mathrm{~g} \\\\) 을 계량하여 넣었다. 여기에 \\\\( 200 \\\\mathrm{~mL} \\\\) 의 멸균 증류수를 첨가하여 현탁하였으며 \\\\( (20 \\\\% \\\\mathrm{w} / \\\\mathrm{v}) \\\\) 시료가 포함된 용기마다 미리 혼합된 복합효소액 \\\\( 2 \\\\mathrm{~mL} \\\\) 를 첨가하고 \\\\(24\\\\) 시간 반응시켰다. 시료에 따라 정해진 균주 현탁액을 \\\\( 2 \\\\mathrm{~mL} \\\\) 씩 접종하여 섭씨 \\\\( 35^{\\\\circ} \\\\mathrm{C} \\\\) 인큐베이터에서 정치 배양하였다. 배양액을 \\\\( 10^{7}-10^{8} \\\\mathrm{cells/mL} \\\\)의 균주 농도를 맞추어 접종하였다. 샘플에 따라 간헐적으로 흔들어 주었으며 매일 같은 시간에 발효상태 \\\\( (\\\\mathrm{pH}) \\\\) 를 확인하고 \\\\( 35^{\\\\circ} \\\\mathrm{C} \\\\) 로, \\\\(6\\\\) 일간 발효하였다. 그 다음 발효한 시료를 동결건조하였다. 동결건조는 \\\\( -30^{\\\\circ} \\\\mathrm{C} \\\\) 에서 \\\\(120\\\\) 분,\\\\( -15^{\\\\circ} \\\\mathrm{C} \\\\) 에서 \\\\(120\\\\) 분 \\\\( 0^{\\\\circ} \\\\mathrm{C} \\\\) 에서 \\\\(240\\\\) 분, \\\\( 15^{\\\\circ} \\\\mathrm{C} \\\\) 에서 \\\\(120\\\\) 분, \\\\( 30^{\\\\circ} \\\\mathrm{C} \\\\) 에서 \\\\(120\\\\) 분의 조건으로 시행하였다.</p>',\n",
       " 'question': '발효한 시료는 어떤 처리를 했는가?',\n",
       " 'start': 1674,\n",
       " 'end': 1678,\n",
       " 'ans': '동결건조'}"
      ]
     },
     "execution_count": 81,
     "metadata": {},
     "output_type": "execute_result"
    }
   ],
   "source": [
    "QA_valid[15]"
   ]
  },
  {
   "cell_type": "code",
   "execution_count": null,
   "id": "6ae181c3-a0f9-40ae-901e-2c07169a70ff",
   "metadata": {},
   "outputs": [],
   "source": []
  }
 ],
 "metadata": {
  "kernelspec": {
   "display_name": "py36_LM",
   "language": "python",
   "name": "py36_lm"
  },
  "language_info": {
   "codemirror_mode": {
    "name": "ipython",
    "version": 3
   },
   "file_extension": ".py",
   "mimetype": "text/x-python",
   "name": "python",
   "nbconvert_exporter": "python",
   "pygments_lexer": "ipython3",
   "version": "3.6.13"
  }
 },
 "nbformat": 4,
 "nbformat_minor": 5
}
