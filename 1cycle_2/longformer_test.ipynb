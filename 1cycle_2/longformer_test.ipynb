{
 "cells": [
  {
   "cell_type": "code",
   "execution_count": 1,
   "id": "f16b41c4-11f2-4947-a4ea-f9cf53bf09c8",
   "metadata": {},
   "outputs": [
    {
     "name": "stderr",
     "output_type": "stream",
     "text": [
      "/root/miniconda3/envs/py36_LM/lib/python3.6/site-packages/tqdm/auto.py:22: TqdmWarning: IProgress not found. Please update jupyter and ipywidgets. See https://ipywidgets.readthedocs.io/en/stable/user_install.html\n",
      "  from .autonotebook import tqdm as notebook_tqdm\n"
     ]
    }
   ],
   "source": [
    "from tqdm import tqdm\n",
    "import json\n",
    "import torch\n",
    "from transformers import AutoModelForQuestionAnswering, AutoTokenizer\n",
    "import pytorch_lightning as pl\n",
    "import os\n",
    "import argparse"
   ]
  },
  {
   "cell_type": "code",
   "execution_count": 2,
   "id": "a8958a7d-8dd4-40e9-b0e5-c65c19b9d166",
   "metadata": {},
   "outputs": [
    {
     "name": "stdout",
     "output_type": "stream",
     "text": [
      "/home/UNILM/summary-QA\n"
     ]
    }
   ],
   "source": [
    "%cd .."
   ]
  },
  {
   "cell_type": "code",
   "execution_count": 3,
   "id": "575f94bb-3967-4691-a58b-573f82d08c1b",
   "metadata": {},
   "outputs": [],
   "source": [
    "from QA_longformer import QA, QA_F1, EM"
   ]
  },
  {
   "cell_type": "code",
   "execution_count": 4,
   "id": "25171ba0-db4e-434f-b068-436e491d8454",
   "metadata": {},
   "outputs": [],
   "source": [
    "os.environ['CUDA_VISIBLE_DEVICES']='1'\n",
    "device = torch.device('cuda' if torch.cuda.is_available() else 'cpu')"
   ]
  },
  {
   "cell_type": "code",
   "execution_count": 5,
   "id": "2811aec4-fa94-4508-9534-7dd4dd4ff9e3",
   "metadata": {
    "tags": []
   },
   "outputs": [
    {
     "name": "stderr",
     "output_type": "stream",
     "text": [
      "Some weights of the model checkpoint at markussagen/xlm-roberta-longformer-base-4096 were not used when initializing XLMRobertaForQuestionAnswering: ['lm_head.bias', 'lm_head.dense.weight', 'lm_head.dense.bias', 'lm_head.layer_norm.weight', 'lm_head.layer_norm.bias', 'lm_head.decoder.weight', 'lm_head.decoder.bias', 'roberta.encoder.layer.0.attention.self.query_global.weight', 'roberta.encoder.layer.0.attention.self.query_global.bias', 'roberta.encoder.layer.0.attention.self.key_global.weight', 'roberta.encoder.layer.0.attention.self.key_global.bias', 'roberta.encoder.layer.0.attention.self.value_global.weight', 'roberta.encoder.layer.0.attention.self.value_global.bias', 'roberta.encoder.layer.1.attention.self.query_global.weight', 'roberta.encoder.layer.1.attention.self.query_global.bias', 'roberta.encoder.layer.1.attention.self.key_global.weight', 'roberta.encoder.layer.1.attention.self.key_global.bias', 'roberta.encoder.layer.1.attention.self.value_global.weight', 'roberta.encoder.layer.1.attention.self.value_global.bias', 'roberta.encoder.layer.2.attention.self.query_global.weight', 'roberta.encoder.layer.2.attention.self.query_global.bias', 'roberta.encoder.layer.2.attention.self.key_global.weight', 'roberta.encoder.layer.2.attention.self.key_global.bias', 'roberta.encoder.layer.2.attention.self.value_global.weight', 'roberta.encoder.layer.2.attention.self.value_global.bias', 'roberta.encoder.layer.3.attention.self.query_global.weight', 'roberta.encoder.layer.3.attention.self.query_global.bias', 'roberta.encoder.layer.3.attention.self.key_global.weight', 'roberta.encoder.layer.3.attention.self.key_global.bias', 'roberta.encoder.layer.3.attention.self.value_global.weight', 'roberta.encoder.layer.3.attention.self.value_global.bias', 'roberta.encoder.layer.4.attention.self.query_global.weight', 'roberta.encoder.layer.4.attention.self.query_global.bias', 'roberta.encoder.layer.4.attention.self.key_global.weight', 'roberta.encoder.layer.4.attention.self.key_global.bias', 'roberta.encoder.layer.4.attention.self.value_global.weight', 'roberta.encoder.layer.4.attention.self.value_global.bias', 'roberta.encoder.layer.5.attention.self.query_global.weight', 'roberta.encoder.layer.5.attention.self.query_global.bias', 'roberta.encoder.layer.5.attention.self.key_global.weight', 'roberta.encoder.layer.5.attention.self.key_global.bias', 'roberta.encoder.layer.5.attention.self.value_global.weight', 'roberta.encoder.layer.5.attention.self.value_global.bias', 'roberta.encoder.layer.6.attention.self.query_global.weight', 'roberta.encoder.layer.6.attention.self.query_global.bias', 'roberta.encoder.layer.6.attention.self.key_global.weight', 'roberta.encoder.layer.6.attention.self.key_global.bias', 'roberta.encoder.layer.6.attention.self.value_global.weight', 'roberta.encoder.layer.6.attention.self.value_global.bias', 'roberta.encoder.layer.7.attention.self.query_global.weight', 'roberta.encoder.layer.7.attention.self.query_global.bias', 'roberta.encoder.layer.7.attention.self.key_global.weight', 'roberta.encoder.layer.7.attention.self.key_global.bias', 'roberta.encoder.layer.7.attention.self.value_global.weight', 'roberta.encoder.layer.7.attention.self.value_global.bias', 'roberta.encoder.layer.8.attention.self.query_global.weight', 'roberta.encoder.layer.8.attention.self.query_global.bias', 'roberta.encoder.layer.8.attention.self.key_global.weight', 'roberta.encoder.layer.8.attention.self.key_global.bias', 'roberta.encoder.layer.8.attention.self.value_global.weight', 'roberta.encoder.layer.8.attention.self.value_global.bias', 'roberta.encoder.layer.9.attention.self.query_global.weight', 'roberta.encoder.layer.9.attention.self.query_global.bias', 'roberta.encoder.layer.9.attention.self.key_global.weight', 'roberta.encoder.layer.9.attention.self.key_global.bias', 'roberta.encoder.layer.9.attention.self.value_global.weight', 'roberta.encoder.layer.9.attention.self.value_global.bias', 'roberta.encoder.layer.10.attention.self.query_global.weight', 'roberta.encoder.layer.10.attention.self.query_global.bias', 'roberta.encoder.layer.10.attention.self.key_global.weight', 'roberta.encoder.layer.10.attention.self.key_global.bias', 'roberta.encoder.layer.10.attention.self.value_global.weight', 'roberta.encoder.layer.10.attention.self.value_global.bias', 'roberta.encoder.layer.11.attention.self.query_global.weight', 'roberta.encoder.layer.11.attention.self.query_global.bias', 'roberta.encoder.layer.11.attention.self.key_global.weight', 'roberta.encoder.layer.11.attention.self.key_global.bias', 'roberta.encoder.layer.11.attention.self.value_global.weight', 'roberta.encoder.layer.11.attention.self.value_global.bias']\n",
      "- This IS expected if you are initializing XLMRobertaForQuestionAnswering from the checkpoint of a model trained on another task or with another architecture (e.g. initializing a BertForSequenceClassification model from a BertForPreTraining model).\n",
      "- This IS NOT expected if you are initializing XLMRobertaForQuestionAnswering from the checkpoint of a model that you expect to be exactly identical (initializing a BertForSequenceClassification model from a BertForSequenceClassification model).\n",
      "Some weights of XLMRobertaForQuestionAnswering were not initialized from the model checkpoint at markussagen/xlm-roberta-longformer-base-4096 and are newly initialized: ['qa_outputs.weight', 'qa_outputs.bias']\n",
      "You should probably TRAIN this model on a down-stream task to be able to use it for predictions and inference.\n"
     ]
    }
   ],
   "source": [
    "#parser = argparse.ArgumentParser()\n",
    "#parser.add_argument('--learning_rate', default=5e-5, type=float)\n",
    "#args = parser.parse_args()\n",
    "args='a'\n",
    "QA_model = QA(args)"
   ]
  },
  {
   "cell_type": "code",
   "execution_count": 14,
   "id": "472e2296-ff20-4159-a03a-06c8c1e35195",
   "metadata": {},
   "outputs": [
    {
     "data": {
      "text/plain": [
       "<All keys matched successfully>"
      ]
     },
     "execution_count": 14,
     "metadata": {},
     "output_type": "execute_result"
    }
   ],
   "source": [
    "#QA_model.load_state_dict(torch.load('./QA/Longformer_b16_lr5e-5/lightning_logs/version_1/checkpoints/last.ckpt')['state_dict'])\n",
    "# QA_model.load_state_dict(torch.load('./QA/Longformer_1cycle/lightning_logs/version_2/checkpoints/checkpoints_epoch=19.ckpt')['state_dict'])\n",
    "QA_model.load_state_dict(torch.load('./QA/Longformer_1cycle/lightning_logs/version_3/checkpoints/checkpoints_epoch=11.ckpt')['state_dict'])"
   ]
  },
  {
   "cell_type": "code",
   "execution_count": 15,
   "id": "5c5d7882-6bf2-434c-81b6-87cb1b127cd4",
   "metadata": {},
   "outputs": [],
   "source": [
    "tokenizer = AutoTokenizer.from_pretrained('markussagen/xlm-roberta-longformer-base-4096', max_length = 4096, padding ='max_length', truncation=True)"
   ]
  },
  {
   "cell_type": "code",
   "execution_count": 16,
   "id": "2f345e9b-89da-421d-aabf-7285077d3013",
   "metadata": {},
   "outputs": [
    {
     "name": "stdout",
     "output_type": "stream",
     "text": [
      "num_data: 13543\n"
     ]
    }
   ],
   "source": [
    "# path = '../../UNILM_/data/KLUE/klue_benchmark/klue-mrc-v1.1/klue-mrc-v1.1_dev.json'\n",
    "path = '1cycle_2/QA_convert2048.json'\n",
    "#path ='./klue-mrc-v1.1_train_pre.json'\n",
    "with open(path, 'r') as fr:\n",
    "    QA_json = json.load(fr)\n",
    "print('num_data:',len(QA_json))"
   ]
  },
  {
   "cell_type": "code",
   "execution_count": 17,
   "id": "104c5192-f4d7-4cf1-97df-ff15632e95df",
   "metadata": {},
   "outputs": [],
   "source": [
    "val_ratio = 0.95\n",
    "train_len = int(len(QA_json)*val_ratio)\n",
    "QA_train = QA_json[:train_len]\n",
    "QA_valid = QA_json[train_len:]"
   ]
  },
  {
   "cell_type": "code",
   "execution_count": 18,
   "id": "4dcdb39c-10d9-487b-aeb6-915f54a69107",
   "metadata": {},
   "outputs": [],
   "source": [
    "s_list=[]\n",
    "e_list=[]"
   ]
  },
  {
   "cell_type": "code",
   "execution_count": 19,
   "id": "eacc7c9b-e019-4d3f-b07a-c13b290987d9",
   "metadata": {
    "scrolled": true,
    "tags": []
   },
   "outputs": [
    {
     "name": "stdout",
     "output_type": "stream",
     "text": [
      "question: 간 조직에 실시한 blot 기법은?\n",
      "answer: Western blot\n",
      "153 154\n",
      "predict: Western blot\n",
      "------------\n",
      "question: LPS에 의해서 유발된 손상은 무엇인가?\n",
      "answer: 간세포손상\n",
      "268 785\n",
      "predict: NF-\\( \\kappa \\)B p\\(65\\)의 발현에서는 대조군에 비해 GR\\( 0 \\)F\\( 0 \\) 투여군, GR\\( 6 \\)F\\( 4 \\) 투여군 모두 유의성 있는 감소를 보이지 않았다. 이로 보아 천마의 항염증의 기전이 전사인자 AP-\\( 1 \\) 의 발현에 관여하는 것으로 생각된다.</p><p>COX-\\(2 \\) 와 iNOS 에서는 GR\\( 0 \\)F\\( 0 \\) 투여군 및 GR\\( 6 \\)F\\( 4 \\) 투여군이 대조군에 비하여 적게 발현되었다. 특히 GR\\( 6 \\)F\\( 4 \\) 투여군에서는 정상군 수준의 COX-\\(2 \\), iNOS 의 발현을 보였다.</p><p>TNF-\\(\\alpha \\) 발현의 경우, GR\\( 6 \\)F\\( 4 \\) 투여군에서만 대조군에 비해 유의성 있는 감소를 보였고 GR\\( 0 \\)F\\( 0 \\) 투여군은 TNF- \\( \\alpha \\) 의 발현 대조군에 비하여 감소하였으나 유의성은 없었다. 이를 통해 천마와 발효 증숙발효천마는 전사인자 AP-\\(1 \\) 의 신호전달체계를 억제함으로써 iNOS, COX-\\(2 \\) 와 TNF-\\( \\alpha \\) 의 발현이 적게 나타나는 것으로 판단할 수 있었다.</p><p>실험종료 후, 간 조직을 적출한 후, 광학 현미경 하에서 각각의 조직을 살펴본 결과, 대조군에 비해 GR\\( 0 \\)F\\( 0 \\) 투여군과 GR\\( 6 \\)F\\( 4 \\) 투여군에서 혈관주위의 염증이 적게 발견되었고, 핵이 뚜렷하게 구분되는 것을 확인할 수 있었다.</p><p>이상의 결과로 볼 때 LPS에 의해 유발된 간세포손상\n",
      "------------\n",
      "question: 천마가 어떤 것을 억제해서 간세포 손상을 예방하는가?\n",
      "answer: 산화인자\n",
      "819 827\n",
      "predict: LPS로 생성되는 산화인자를\n",
      "------------\n",
      "question: 실험에 사용한 미생물 4가지를 모두 쓰면?\n",
      "answer: Lactobacillus plantarum, Leuconostoc mesenteroides, Streptococcus thermophilus, Saccharomyces cerevisiae\n",
      "556 558\n",
      "predict: gastrodigenin\n",
      "------------\n",
      "question: ABTS radical scavenging activity가 두번째로 높은 활성도를 보인 시료는?\n",
      "answer: GR\\(6\\)F\\(4\\)\n",
      "164 695\n",
      "predict: 증숙의 횟수가 증가할수록 더 많은 활성산소 소거능을 보였으나, ABTS radical scavenging activity의 경우는 천마를 발효했을 때 라디칼 소거능이 감소하는 경향을 보였다. DPPH radical scavenging activity 에서는 가장 높은 활성도를 보인 시료는 GR\\(6\\)F\\(4\\)였다. ABTS radical scavenging activity의 경우 GR\\(0\\)F\\(0\\) 가 가장 높은 활성도를 보였고, GR\\(6\\)F\\(4\\)가 다음으로 높은 활성도를 보였다. 이는 Heo 등의 연구와 일치하게 천마가 뛰어난 항산화 효능을 가지는 결과를 나타내었고, 또한 증숙 및 발효가 ABTS radical 소거능을 유의하게 증가시키는 결과를 확인 할 수 있었다.</p><p>천마의 증숙과 발효 따른 유효성분의 함량을 살펴본 결과 천마는 \\(6\\)증까지 증숙 횟수가 증가할수록 gastrodin은 증가하고, gastrodigenin은 감소하는 경향을 보였다. 이는 증숙이 gastrodin 의 분해를 방지한다는 기존의 발표에 합치된다. 또한 발효한 천마 모두에서 gastrodin이 거의 검출되지 않은 것을 보아 천마의 gastrodin이 발효균주에 의해 gastrodigenin으로 전환된 것으로 사료된다.</p><p>천마와 증숙발효 천마의 성분 함량은 gastrodin의 경우 GR\\(6\\)F\\(0\\) 에서 \\( 1289.52 \\pm 98.49 \\mu \\mathrm{g} / \\mathrm{mL} \\) 로 가장 많았고, gastrodigenin은 GR\\(6\\)F\\(4\\)에서 \\( 1698.84 \\pm 18.08 \\mu \\mathrm{g} / \\mathrm{mL} \\) 로 가장 많았다.</p><p>위의 결과로 많은 유효성분을 함유하고 높은 항산화 활성을 보인 \\(6\\)회 증숙 후 \\(4\\)번 미생물(S. cerevisiae)로 발효시킨 GR\\(6\\)F\\(4\\) 가 생건 천마인 GR\\(0\\)F\\(0\\)\n",
      "------------\n",
      "question: 천마는 몇번까지 증숙했을 때 gastrodin은 증가하고, gastrodigenin은 감소해?\n",
      "answer: \\(6\\)증\n",
      "382 899\n",
      "predict: \\(6\\)증까지 증숙 횟수가 증가할수록 gastrodin은 증가하고, gastrodigenin은 감소하는 경향을 보였다. 이는 증숙이 gastrodin 의 분해를 방지한다는 기존의 발표에 합치된다. 또한 발효한 천마 모두에서 gastrodin이 거의 검출되지 않은 것을 보아 천마의 gastrodin이 발효균주에 의해 gastrodigenin으로 전환된 것으로 사료된다.</p><p>천마와 증숙발효 천마의 성분 함량은 gastrodin의 경우 GR\\(6\\)F\\(0\\) 에서 \\( 1289.52 \\pm 98.49 \\mu \\mathrm{g} / \\mathrm{mL} \\) 로 가장 많았고, gastrodigenin은 GR\\(6\\)F\\(4\\)에서 \\( 1698.84 \\pm 18.08 \\mu \\mathrm{g} / \\mathrm{mL} \\) 로 가장 많았다.</p><p>위의 결과로 많은 유효성분을 함유하고 높은 항산화 활성을 보인 \\(6\\)회 증숙 후 \\(4\\)번 미생물(S. cerevisiae)로 발효시킨 GR\\(6\\)F\\(4\\) 가 생건 천마인 GR\\(0\\)F\\(0\\)와 함께 최종 시료로 선정하게 되었다.</p><p>최종 선정된 시료를 LPS를 이용한 급성 간손상 개선 효능평가 모델에 적용하여 간 기능 개선 효능을 평가하였다. ICR mice에 먼저 \\(8\\) 일간 경구로 GR\\(0\\)F\\(0\\)와 GR\\(6\\)F\\(4\\)를 투여하였다. 경구 투여 기간 동안의 체중변화 및 식이효율을 살펴본 결과, 실험군 모두 시간에 따른 체중이 일정하게 증가하여 GR\\(0\\)F\\(0\\) 나 GR\\(6\\)F\\(4\\)에 의한 독성은 없는 것으로 판단되었다.</p><p>혈청의 ALT, AST 활성도를 검사한 결과, 혈청 ALT 의 경우 대조군에 비해 GR\\(0\\)F\\(0\\)\n",
      "------------\n",
      "question: gastrodigenin의 성분 함량이 가장 높았던 시료는?\n",
      "answer: GR\\(6\\)F\\(4\\)\n",
      "560 606\n",
      "predict: GR\\(6\\)F\\(4\\)에서 \\( 1698.84 \\pm 18.08 \\mu \\mathrm{g} / \\mathrm{mL} \\)\n",
      "------------\n",
      "question: 최종 시료로 선정된 발효 천마 시료는?\n",
      "answer: GR\\(6\\)F\\(4\\)\n",
      "164 695\n",
      "predict: 증숙의 횟수가 증가할수록 더 많은 활성산소 소거능을 보였으나, ABTS radical scavenging activity의 경우는 천마를 발효했을 때 라디칼 소거능이 감소하는 경향을 보였다. DPPH radical scavenging activity 에서는 가장 높은 활성도를 보인 시료는 GR\\(6\\)F\\(4\\)였다. ABTS radical scavenging activity의 경우 GR\\(0\\)F\\(0\\) 가 가장 높은 활성도를 보였고, GR\\(6\\)F\\(4\\)가 다음으로 높은 활성도를 보였다. 이는 Heo 등의 연구와 일치하게 천마가 뛰어난 항산화 효능을 가지는 결과를 나타내었고, 또한 증숙 및 발효가 ABTS radical 소거능을 유의하게 증가시키는 결과를 확인 할 수 있었다.</p><p>천마의 증숙과 발효 따른 유효성분의 함량을 살펴본 결과 천마는 \\(6\\)증까지 증숙 횟수가 증가할수록 gastrodin은 증가하고, gastrodigenin은 감소하는 경향을 보였다. 이는 증숙이 gastrodin 의 분해를 방지한다는 기존의 발표에 합치된다. 또한 발효한 천마 모두에서 gastrodin이 거의 검출되지 않은 것을 보아 천마의 gastrodin이 발효균주에 의해 gastrodigenin으로 전환된 것으로 사료된다.</p><p>천마와 증숙발효 천마의 성분 함량은 gastrodin의 경우 GR\\(6\\)F\\(0\\) 에서 \\( 1289.52 \\pm 98.49 \\mu \\mathrm{g} / \\mathrm{mL} \\) 로 가장 많았고, gastrodigenin은 GR\\(6\\)F\\(4\\)에서 \\( 1698.84 \\pm 18.08 \\mu \\mathrm{g} / \\mathrm{mL} \\) 로 가장 많았다.</p><p>위의 결과로 많은 유효성분을 함유하고 높은 항산화 활성을 보인 \\(6\\)회 증숙 후 \\(4\\)번 미생물(S. cerevisiae)로 발효시킨 GR\\(6\\)F\\(4\\) 가 생건 천마인 GR\\(0\\)F\\(0\\)\n",
      "------------\n",
      "question: 전자공여능은 어떤 방법으로 측정하는가?\n",
      "answer: DPPH radical 소거법\n",
      "31 36\n",
      "predict: DPPH radical 소거법\n",
      "------------\n",
      "question: 일정 농도의 시료 \\( 100 \\mu \\mathrm{L} \\) 와 \\( 60 \\mu \\mathrm{M} \\) DPPH용액(dissolved in ethanol) \\( 100 \\mu \\mathrm{L} \\) 를 넣고 혼합한 후, 실온에서 몇 분 동안 반응시킵니까?\n",
      "answer: \\(30\\)분\n",
      "209 215\n",
      "predict: \\(30\\)분\n",
      "------------\n",
      "question: 시료와 DPPH용액을 혼합한 이 반응액을 사용하여 어느 파장에서 흡광도를 측정한 후, DPPH radical 소거능을 계산하여 산출할 수 있는가?\n",
      "answer: \\( 540 \\mathrm{~nm} \\)\n",
      "227 998\n",
      "predict: \\( 540 \\mathrm{~nm} \\) 에서 흡광도를 측정한 후, DPPH radical 소거능을 계산하여 산출하였다.</p><h2>ABTS radical scavenging activity 측정</h2><p>\\( 7 \\mathrm{mM} \\) ABTS와 \\( 2.45 \\mathrm{mM} \\) Potassium persulfate를 증류수에 녹인 다음 \\(12\\) 시간 동안 차광하여 보관 한 후, 이 반응액을 \\(415 \\mathrm{nm} \\) 에서 ethanol을 이용하여 흡광도 \\( 0.70 \\pm 0.02 \\) 로 보정한다. 그 후, ABTS \\( 95 \\mu \\mathrm{L} \\) 에 시료 \\( 5 \\mu \\mathrm{L} \\) 을 첨가하여 \\(15\\)분 반응 후, \\(415 \\mathrm{nm} \\) 에서 흡광도를 측정하여 ABTS 라디칼 소거능을 계산하여 산출하였다.</p><h2>성분분석</h2><p>HPLC 분석에 사용한 이동상은 A: water \\( (0.2 \\% \\) phosphoric acid)와 B: aceto-nitrile \\( (0.2 \\% \\) phosphoric acid)을 gradient로 사용하여 용매기울기로 유속 \\( 1.0 \\mathrm{~mL} / \\mathrm{min} \\) 에서 column 온도 \\(40\\)를 유지하면서 검출기는 UV \\( (225 \\mathrm{~nm}) \\) 를 사용하였고 주입량은 \\( 1 \\mathrm{~mL} \\) 를 주입하였다.</p><p>천마 및 발효 천마 시료액의 \\( 1 \\mathrm{~mL} \\) 에 함유된 성분을 분석하여 함량을 표로 나타내었다. 발효 천마는 gastrodin, gastrodigenin의 함량을 분석하여 나타내었다.</p><p>천마의 분석에 사용한 표준품은 식품의약품안전청의 한약재 과학화연구사업단 이화여자대학교 서은경 교수로부터 천마에서 분리한 gastrodin, gastrodigenin 2종을 제공받아 사용하였다.</p><h2>LPS에 의한 급성 간손상 개선 효능평가</h2><p>ICR mice (\\(6\\)주령, 수컷)로부터 아무런 처치를 하지 않은 정상군, LPS를 처치한 대조군, GR\\(0\\)F\\(0\\) \\( 200 \\mathrm{mg} / \\mathrm{kg} \\) 의 용량을 \\(1\\) 일 \\(1\\)회, \\(8\\)일간 경구 투여한 GR\\(0\\)F\\(0\\)투여군, 그리고 GR\\(6\\)F\\(4\\) \\( 200 \\mathrm{mg} / \\mathrm{</s></s> 시료와 DPPH용액을 혼합한 이 반응액을 사용하여 어느 파장에서\n",
      "------------\n",
      "question: ABTS 라디칼 소거능을 계산할 때 흡광도를 보정한 후, 어떻게 흡광도를 측정하여 산출하는가?\n",
      "answer: ABTS \\( 95 \\mu \\mathrm{L} \\) 에 시료 \\( 5 \\mu \\mathrm{L} \\) 을 첨가하여 \\(15\\)분 반응 후, \\(415 \\mathrm{nm} \\) 에서 흡광도를 측정하여 ABTS 라디칼 소거능을 계산하여 산출\n",
      "506 459\n",
      "predict: \n",
      "------------\n",
      "question: HPLC 분석에 사용한 이동상의 유속은 얼마인가?\n",
      "answer: \\( 1.0 \\mathrm{~mL} / \\mathrm{min} \\)\n",
      "525 51\n",
      "predict: \n",
      "------------\n",
      "question: 실험 9일째, ICR mice의 심장에서 혈액을 채취하기 위해 흡입 마취를 한다. 이 때 무엇을 이용하여서 흡입 마취를 하는가?\n",
      "answer: ethyl ether\n",
      "374 376\n",
      "predict: ethanol\n",
      "------------\n",
      "question: 실험동물의 체중 증가량은 어떻게 산출하는가?\n",
      "answer: 실험동물의 체중은 전자체중계로 \\(1\\)회/\\(1\\)일으로 동일 시간 동일 조건에서 측정하였고, 실험종료일 체중에서 실험 개시 전 체중을 빼서 체중 증가량(body weight gain \\( (\\mathrm{g}) \\) )을 산출\n",
      "998 495\n",
      "predict: \n",
      "------------\n",
      "question: 각 쥐의 체중증가량을 동일 사육기간의 사료섭취량으로 나누어서 구할 수 있는 것은?\n",
      "answer: 식이효율\n",
      "515 1013\n",
      "predict: >HPLC 분석에 사용한 이동상은 A: water \\( (0.2 \\% \\) phosphoric acid)와 B: aceto-nitrile \\( (0.2 \\% \\) phosphoric acid)을 gradient로 사용하여 용매기울기로 유속 \\( 1.0 \\mathrm{~mL} / \\mathrm{min} \\) 에서 column 온도 \\(40\\)를 유지하면서 검출기는 UV \\( (225 \\mathrm{~nm}) \\) 를 사용하였고 주입량은 \\( 1 \\mathrm{~mL} \\) 를 주입하였다.</p><p>천마 및 발효 천마 시료액의 \\( 1 \\mathrm{~mL} \\) 에 함유된 성분을 분석하여 함량을 표로 나타내었다. 발효 천마는 gastrodin, gastrodigenin의 함량을 분석하여 나타내었다.</p><p>천마의 분석에 사용한 표준품은 식품의약품안전청의 한약재 과학화연구사업단 이화여자대학교 서은경 교수로부터 천마에서 분리한 gastrodin, gastrodigenin 2종을 제공받아 사용하였다.</p><h2>LPS에 의한 급성 간손상 개선 효능평가</h2><p>ICR mice (\\(6\\)주령, 수컷)로부터 아무런 처치를 하지 않은 정상군, LPS를 처치한 대조군, GR\\(0\\)F\\(0\\) \\( 200 \\mathrm{mg} / \\mathrm{kg} \\) 의 용량을 \\(1\\) 일 \\(1\\)회, \\(8\\)일간 경구 투여한 GR\\(0\\)F\\(0\\)투여군, 그리고 GR\\(6\\)F\\(4\\) \\( 200 \\mathrm{mg} / \\mathrm{kg} \\) 의 용량을 \\(1\\)일 </s></s> 각 쥐의 체중증가량을 동일 사육기간의 사료섭취량\n",
      "------------\n",
      "question: ICR mice를 이용하여 LPS에 의한 급성 간손상 개선 효능평가 실험을 하였는데 이 때, 실험그룹을 총 몇 그룹으로 분류하였으며 각 군에 몇 마리씩 배정되었는가?\n",
      "answer: 총 \\(4\\) 그룹으로 분류하였으며, 각 군에 \\(6\\) 마리씩 배정\n",
      "383 396\n",
      "predict: \\( 0.70 \\pm 0.02 \\)\n",
      "------------\n",
      "question: DPPH radical 소거법은 어떻게 시료중에 포함된 항산화 물질의 양을 측정하는가?\n",
      "answer: 용액은 짙은 보라색(deep violet)으로 시료 중에 있는 항산화 물질과 결합하여 중화(환원)가 되면 용액은 투명하게 변하므로\n",
      "80 96\n",
      "predict: 중화(환원)가 되면 용액은 투명하게 변하므로\n",
      "------------\n",
      "question: 연구를 위해 생 천마(GR\\(0\\)F\\(0\\))와 몇 회 증숙하는가?\n",
      "answer: \\(6\\) 회 증숙\n",
      "107 112\n",
      "predict: \\(6\\) 회\n",
      "------------\n",
      "question: 심장에서 채취한 혈액을 원심분리하여 혈청을 얻기 위하여 사용한 원심분리기의 속도와 시간 조건은 무엇인가?\n",
      "answer: \\( 4,000 \\mathrm{rpm} \\) 으로 \\(10\\) 분\n",
      "33 57\n",
      "predict: \\( 4,000 \\mathrm{rpm} \\) 으로 \\(10\\) 분\n",
      "------------\n",
      "question: 원심분리하여 얻은 혈청 중 AST, ALT의 활성도는 어떤 방법에 의해 제조된 시약 키트를 사용하여 측정하여야 하는가?\n",
      "answer: Reitman-Frankel법\n",
      "99 105\n",
      "predict: Reitman-Frankel법\n",
      "------------\n",
      "question: 간 조직을 분쇄하기 위해 사용하는 용액의 종류는 무엇인가?\n",
      "answer: \\( 1 \\mathrm{mM} \\) EDTA-\\(50 \\mathrm{mM} \\) sodium phosphate buffer ( \\( \\mathrm{pH} 7.4\\))\n",
      "677 680\n",
      "predict: tissue grinder\n",
      "------------\n",
      "question: 실험 종료 후, 간 조직을 적출한 다음, \\( 10 \\% \\) 중성 포르말린에 몇 시간 이상 고정을 시켜야 하는가?\n",
      "answer: \\(18\\)시간 이상\n",
      "855 346\n",
      "predict: \n",
      "------------\n",
      "question: 간 조직의 세포질단백질 발현을 확인 할 때 사용하는 membrane은 어떤 것인가?\n",
      "answer: nitrocellulose membrane\n",
      "769 270\n",
      "predict: \n",
      "------------\n",
      "question: GR\\(6\\)F\\(4\\)가 보여준 효과는 어떤거야?\n",
      "answer: 항산화 효과\n",
      "118 121\n",
      "predict: 항산화 효과를\n",
      "------------\n",
      "question: 쌀의 어떤 오염문제가 많은 아시아 국가에서 인식되고 있어?\n",
      "answer: 비소오염\n",
      "16 50\n",
      "predict: 전세계 인구의 \\( 50 \\% \\) 가량이 주식으로 이용하고 있다. 또한, 방글라데시, 인도, 베트남\n",
      "------------\n",
      "question: 가열 추출이후에 냉각과정 이후 진행된 공정은 뭐야?\n",
      "answer: 원심분리기\n",
      "302 328\n",
      "predict: 분쇄한 시료 \\( 0.25 \\mathrm{~g} \\) 을 마이크로웨이브\n",
      "------------\n",
      "question: \\( \\mathrm{AT}\\)가 지시하는 내용은 뭐야?\n",
      "answer: Averaging time\n",
      "502 505\n",
      "predict: ICP-MS\n",
      "------------\n",
      "question: 쌀에서 비소는 무엇으로 추출했어?\n",
      "answer: \\( 1 \\% \\) 질산\n",
      "81 118\n",
      "predict: \\( 1 \\% \\) 질산 \\( \\left(\\mathrm{HNO}_{3}\\right) \\)\n",
      "------------\n",
      "question: 비소의 코덱스 식품규격위원회 권장 기준은 백미에서 얼마야?\n",
      "answer: \\( 0.2 \\mathrm{mg} \\mathrm{kg}^{-1} \\)\n",
      "246 275\n",
      "predict: 현미 \\( 0.35 \\mathrm{mg} \\mathrm{kg}^{-1} \\)\n",
      "------------\n",
      "question: 산소를 통한 대사에서 산화촉진물질과 산화억제물의 균형이 무너지면 무엇이 발생해?\n",
      "answer: 활성 산소종(Reactive oxygen species, ROS)\n",
      "566 583\n",
      "predict: 광합성 능력을 지니는 반기생식물이자 약용식물\n",
      "------------\n",
      "question: 이 실험에서 사용된 동백나무 겨우살이는 어느 지방에서 가져온거야?\n",
      "answer: 제주산 \n",
      "130 583\n",
      "predict: butylated hydroxyanisole, butylated hydroxytoluene, propyl gallate와 같은 합성 항산화제가 많이 사용되어 왔으나 이들을 고용량으로 장기간 복용 시 세포독성을 나타내거나 암을 유발시킬 수 있으므로, 이러한 합성 항산화제를 대체할 수 있는 안전하고 효과가 뛰어난 천연 항산화제를 개발하기 위한 연구가 활발하게 진행되고 있다.</p><p>한편, 이러한 항산화 체계의 불안전성으로 유발되는 질병 중 당뇨병은 현대인에 있어서 가장 흔한 내분비계 장애질환으로 최근 연구에서 당뇨병 병인 중 하나인 췌장 \\( \\beta \\) 세포의 기능장애가 산화적 스트레스에 의해 발생하는 것이 밝혀졌다. 현재 시판되고 있는 당뇨 치료 \\( \\alpha \\)-glucosidase inhibitor 약물은 장기 복용할 경우 복부팽만감, 구토, 설사 등 부작용이 나타날 수 있어, 보다 안전하며 혈당조절 효능이 우수한 천연물을 찾기 위한 지속적인 탐색연구가 진행되고 있다.</p><p>비만은 에너지 불균형에 의한 대사이상으로 고혈압 및 고지혈증, 제 2형 당뇨병, 심장질환, 뇌졸중, 관절염, 동맥경화, 암, 대사증후군, 수면무호흡증, 관절염, 요통 등의 만성질환과 밀접한 연관이 있다. 최근 비만의 치료와 예방에 있어 key enzyme으로 작용하는 지방분해효소인 pancreatic lipase의 작용을 억제하는 방법이 주목을 받고 있음에 따라, 천연소재로부터 pancreatic lipase 저해제 개발을 위한 연구가 활발하게 진행 되고 있다.</p><p>겨우살이는 여러 나무를 숙주로 하여 자체적인 광합성 능력을 지니는 반기생식물이자 약용식물\n",
      "------------\n",
      "question: 동백나무 겨우살이를 채집한 달은?\n",
      "answer: 8월\n",
      "56 59\n",
      "predict: 2016년 8월\n",
      "------------\n",
      "question: DPPH radical 소거능을 측정하기 위해서는 어느 파장에서 흡광도를 측정했어?\n",
      "answer: 517\\( \\mathrm{~nm} \\)\n",
      "608 623\n",
      "predict: 562\\( \\mathrm{nm} \\)\n",
      "------------\n",
      "question: Ferrousion chelating 활성을 측정하기 위해서 어느 파장에서 흡광도를 측정해?\n",
      "answer:  562\\( \\mathrm{nm} \\)\n",
      "422 944\n",
      "predict: 시료 250\\( \\mu \\mathrm{L} \\)에 \\( 2 \\mathrm{mM} \\) Ferrous chloride (Iron (II) chloride, \\( \\mathrm{FeCl}_{2} \\) ) 5\\( \\mu \\mathrm{L} \\)와 5\\( \\mathrm{mM} \\) 3-(2-Pyridyl)-5,6-diphenyl-1,2,4-triazine-p,p'-disulfonic acid mono-sodium salt hydrate (Ferrozine) 10\\( \\mu \\mathrm{L} \\)를 순서대로 넣고, 실온에서 10분간 반응시킨 후 microplate reader를 이용하여 562\\( \\mathrm{nm} \\)에서 흡광도를 측정하였다. 환원력은 시료 200\\( \\mu \\mathrm{L} \\)를 e-Tube에 넣고 0.2\\( \\mathrm{M} \\) sodium phosphate buffer (\\( \\mathrm{pH} \\) 6.6) 200\\( \\mu \\mathrm{L} \\)와 1\\( \\% \\) potassium ferricyanide 200\\( \\mu \\mathrm{L} \\)를 넣은 다음 50\\( ^{\\circ} \\mathrm{C} \\)에서 20분간 반응시켰다. 10\\( \\% \\) Trichloroacetic acid 200\\( \\mu \\mathrm{L} \\)를 첨가하여 반응을 정지시키고, 상층액 100\\( \\mu \\mathrm{L} \\)를 96-well plate로 옮겨 0.1\\( \\% \\) Ferric chloride 20\\( \\mu \\mathrm{L} \\) 와 distilled water 100\\( \\mu \\mathrm{L} \\)를 순서대로 첨가한 혼합액의 흡광도를 700\\( \\mathrm{~nm} \\)\n",
      "------------\n",
      "question: \\( \\alpha \\)-Glucosidase 억제 활성을 측정하기 위해 어느 파장에서 흡광도를 측정해?\n",
      "answer:  \\( 405 \\mathrm{~nm} \\)\n",
      "608 623\n",
      "predict: 562\\( \\mathrm{nm} \\)\n",
      "------------\n",
      "question: Pancreatic lipase 저해 활성 측정을 위해서는 어느 파장에서 흡광도를 측정해?\n",
      "answer: 400\\( \\mathrm{nm} \\)\n",
      "608 623\n",
      "predict: 562\\( \\mathrm{nm} \\)\n",
      "------------\n",
      "question: Pancreatic lipase 저해활성을 측정하기 위해 쓰이는 것이 아닌 것은?\n",
      "answer: sodium phosphate buffer\n",
      "1005 1016\n",
      "predict: Pancreatic lipase 저해활성을 측정하기 위해\n",
      "------------\n",
      "question: 실험 결과를 통계 처리할 때 무엇으로 유의성을 검증했어?\n",
      "answer: Student's t-test\n",
      "949 970\n",
      "predict: 시료의 농도별 흡광도는 시료 무첨가군과 흡광도 차이\n",
      "------------\n",
      "question: 꽃은 속씨식물의 어떤 기관인가?\n",
      "answer: 생식기관\n",
      "21 23\n",
      "predict: 생식기관\n",
      "------------\n"
     ]
    }
   ],
   "source": [
    "idx =16\n",
    "for idx in range(0,40):#1903,len(jdata['data'])):\n",
    "    #print(idx)\n",
    "    elem = QA_valid[idx]\n",
    "    context = elem['context']\n",
    "    que = elem['question']\n",
    "    \n",
    "    ans = context[elem['start']:elem['end']]\n",
    "    \n",
    "    print('question:',que)\n",
    "    print('answer:',ans)\n",
    "\n",
    "    inputs = tokenizer(context, que, return_tensors='pt',\n",
    "                       truncation=True,\n",
    "                       max_length=1024,\n",
    "                       padding='max_length',\n",
    "                       add_special_tokens=True)\n",
    "    QA_model.model.eval()\n",
    "    with torch.no_grad():\n",
    "        result = QA_model.model(**inputs)\n",
    "        start_idx = result.start_logits.argmax()\n",
    "        end_idx = result.end_logits.argmax()\n",
    "        s_list.append(start_idx)\n",
    "        e_list.append(end_idx)\n",
    "        print(start_idx.item(), end_idx.item())\n",
    "        predict_answer_tokens=inputs.input_ids[0,start_idx:end_idx+1]\n",
    "        print('predict:',tokenizer.decode(predict_answer_tokens))\n",
    "        print('------------')"
   ]
  },
  {
   "cell_type": "markdown",
   "id": "0bbfc031-5b54-45fe-9f74-4d8659e37bc3",
   "metadata": {},
   "source": [
    "### f1-score, EM 계산"
   ]
  },
  {
   "cell_type": "code",
   "execution_count": 20,
   "id": "654df14c-6adc-46e6-b682-22efd54a5782",
   "metadata": {},
   "outputs": [],
   "source": [
    "%load_ext autoreload\n",
    "%autoreload 2\n",
    "from QA_longformer import QA_dataset, QA_F1, EM\n",
    "from torch.utils.data import Dataset, DataLoader\n",
    "from collections import Counter\n",
    "import numpy as np"
   ]
  },
  {
   "cell_type": "code",
   "execution_count": 23,
   "id": "e82744ca-9ba1-42e5-8d9d-6e78dc284e0c",
   "metadata": {},
   "outputs": [
    {
     "name": "stderr",
     "output_type": "stream",
     "text": [
      "100%|██████████| 678/678 [00:03<00:00, 197.64it/s]\n"
     ]
    }
   ],
   "source": [
    "ed_token_idx_list = []\n",
    "for data in tqdm(QA_valid):\n",
    "    context = data['context']\n",
    "    inputs = tokenizer(context, data['question'],\n",
    "                            return_tensors=\"pt\",\n",
    "                            add_special_tokens=True)\n",
    "    target = inputs[\"input_ids\"].squeeze()\n",
    "    if data['start'] == -1:\n",
    "        st_idx = 0\n",
    "    else:\n",
    "        st_idx = data['start']\n",
    "    ed_idx = data['end']\n",
    "\n",
    "    lst = tokenizer.tokenize(data['context'])\n",
    "    before = context[:st_idx]\n",
    "    ans = context[st_idx:ed_idx]\n",
    "    before_token = tokenizer.tokenize(before)\n",
    "    ans_token = tokenizer.tokenize(ans)\n",
    "    \n",
    "    ed_token_idx = len(before_token)+len(ans_token)\n",
    "    ed_token_idx_list.append({'ed_token_idx':ed_token_idx,\n",
    "                              'context_len':len(target),\n",
    "                             })"
   ]
  },
  {
   "cell_type": "code",
   "execution_count": 24,
   "id": "24f114ba-6131-40f8-9a81-a8ed2101bbb7",
   "metadata": {},
   "outputs": [
    {
     "ename": "NameError",
     "evalue": "name 'len_list' is not defined",
     "output_type": "error",
     "traceback": [
      "\u001b[0;31m---------------------------------------------------------------------------\u001b[0m",
      "\u001b[0;31mNameError\u001b[0m                                 Traceback (most recent call last)",
      "\u001b[0;32m<ipython-input-24-f63beb350083>\u001b[0m in \u001b[0;36m<module>\u001b[0;34m\u001b[0m\n\u001b[1;32m      1\u001b[0m \u001b[0;32mimport\u001b[0m \u001b[0mmatplotlib\u001b[0m\u001b[0;34m.\u001b[0m\u001b[0mpyplot\u001b[0m \u001b[0;32mas\u001b[0m \u001b[0mplt\u001b[0m\u001b[0;34m\u001b[0m\u001b[0;34m\u001b[0m\u001b[0m\n\u001b[0;32m----> 2\u001b[0;31m \u001b[0mlen_list\u001b[0m\u001b[0;34m.\u001b[0m\u001b[0msort\u001b[0m\u001b[0;34m(\u001b[0m\u001b[0;34m)\u001b[0m\u001b[0;34m\u001b[0m\u001b[0;34m\u001b[0m\u001b[0m\n\u001b[0m\u001b[1;32m      3\u001b[0m \u001b[0mplt\u001b[0m\u001b[0;34m.\u001b[0m\u001b[0mplot\u001b[0m\u001b[0;34m(\u001b[0m\u001b[0mlen_list\u001b[0m\u001b[0;34m)\u001b[0m\u001b[0;34m\u001b[0m\u001b[0;34m\u001b[0m\u001b[0m\n\u001b[1;32m      4\u001b[0m \u001b[0mplt\u001b[0m\u001b[0;34m.\u001b[0m\u001b[0mshow\u001b[0m\u001b[0;34m(\u001b[0m\u001b[0;34m)\u001b[0m\u001b[0;34m\u001b[0m\u001b[0;34m\u001b[0m\u001b[0m\n",
      "\u001b[0;31mNameError\u001b[0m: name 'len_list' is not defined"
     ]
    }
   ],
   "source": [
    "import matplotlib.pyplot as plt\n",
    "len_list.sort()\n",
    "plt.plot(len_list)\n",
    "plt.show()"
   ]
  },
  {
   "cell_type": "code",
   "execution_count": 25,
   "id": "685b0d50-9df0-4a70-a60e-2dcf2692d5ba",
   "metadata": {},
   "outputs": [
    {
     "data": {
      "image/png": "[encoded data removed]",
      "text/plain": [
       "<Figure size 432x288 with 1 Axes>"
      ]
     },
     "metadata": {
      "needs_background": "light"
     },
     "output_type": "display_data"
    }
   ],
   "source": [
    "ed_list2 = [e['ed_token_idx'] for i, e in enumerate(ed_token_idx_list) if e['ed_token_idx']<4096]\n",
    "ed_list2.sort()\n",
    "plt.plot(ed_list2)\n",
    "plt.show()"
   ]
  },
  {
   "cell_type": "code",
   "execution_count": 27,
   "id": "e0e100ce-3909-43c8-9a64-df53b7e35dee",
   "metadata": {},
   "outputs": [],
   "source": [
    "QA_valid_dataset = QA_dataset(QA_valid, tokenizer, 2048)\n",
    "QA_valid_dataloader = DataLoader(QA_valid_dataset, batch_size=1, shuffle=False)"
   ]
  },
  {
   "cell_type": "code",
   "execution_count": 33,
   "id": "fcebc656-46eb-4b7c-8a83-44822154fdc6",
   "metadata": {},
   "outputs": [
    {
     "name": "stderr",
     "output_type": "stream",
     "text": [
      "100%|██████████| 678/678 [00:17<00:00, 38.15it/s]\n"
     ]
    }
   ],
   "source": [
    "my_list = []\n",
    "QA_model.model.eval()\n",
    "QA_model.model.to(device)\n",
    "with torch.no_grad():\n",
    "    for val_batch in tqdm(QA_valid_dataloader):\n",
    "        target, attention_mask, start, end = val_batch\n",
    "        target = target.to(device)\n",
    "        attention_mask = attention_mask.to(device)\n",
    "        \n",
    "        outputs = QA_model.model(input_ids = target, attention_mask = attention_mask)\n",
    "        pred_st = outputs.start_logits.argmax()\n",
    "        pred_end = outputs.end_logits.argmax() + 1\n",
    "        pred = target[0][pred_st:pred_end].detach().tolist()\n",
    "        truth = target[0][start:end].detach().tolist()\n",
    "        pred_txt = tokenizer.decode(pred)\n",
    "        truth_txt = tokenizer.decode(truth)\n",
    "        em = EM(truth, pred)\n",
    "        f1 = QA_F1(truth, pred)\n",
    "        my_list.append({'pred_txt':pred_txt,'truth_txt':truth_txt,\n",
    "                        'em': em ,'f1':f1,\n",
    "                        'pred':pred,'truth':truth\n",
    "                       })"
   ]
  },
  {
   "cell_type": "code",
   "execution_count": 54,
   "id": "52f79e8a-9fc7-4061-8a98-d5e02cfb1aa8",
   "metadata": {},
   "outputs": [
    {
     "data": {
      "text/plain": [
       "{'context': '<h1>재료 및 방법</h1><h2>대상지역과 쌀시료 채취 및 조제</h2><p>본 연구에서는 논토양에서 중(준)금속의 오염이 예상되는 광산 인근 및 공단인근 지역을 배제한 우리나라 지역별 쌀 주산단지로 경기, 강원, 층남, 충북, 전북, 전남, 경북, 경남도별로 각각 12-13 지점에서 2013년 재배한 총 100점을 채취하여 시료로 사용하였다. 수확한 쌀 시료를 풍건한 후, 드라이오븐에서 \\\\( 60^{\\\\circ} \\\\mathrm{C} \\\\)로 하루 건조 후 현미기(SYTH88, Ssangyong Instrument, Incheon, Korea)를 이용하여 현미로 도정하였고, 실험용 도정기 (McGillmiller, HT McGill Inc, Brookshire, TX, USA)를 이용하여 10분도 백미로 도정하였다. 도정된 현미와 백미는 1분 동안 자동 균질기를 사용하여 고운 가루로 빻아서 실온에 보관하였고 분석시료로 사용하였다.</p><h2>쌀 중 비소함량 분석</h2><p>현미와 백미의 총 비소 함량 분석은 분쇄한 시료 \\\\( 0.25 \\\\mathrm{~g} \\\\) 을 마이크로웨이브(Mars5, CEM, Matthews, NC, USA) 분해용기에 넣고 진한 질산 \\\\( 8 \\\\mathrm{~mL} \\\\) 와 \\\\( 30 \\\\% \\\\) 과산화수소 \\\\( 1 \\\\mathrm{~mL} \\\\) 를 첨가한 후 1시간 정치시켜 발생하는 가스를 제거하고, 모든 vessel은 screwcap으로 밀봉하여 설정된 프로그렘에 의해 microwave digestionsystem (ETHOS, Milestone, Sorisole, Vergamo, Italy)를 이용하여 \\\\( 180^{\\\\circ} \\\\mathrm{C} \\\\) 에서 20분 동안 분해하여 분해액 중 비소의 함량을 ICP-MS (Agilent 7700, Santa Clara, CA, USA)로 분석하였다. 산 분해 후, vessel용기를 상온에서 층분히 냉각시킨 후 얻은 분해액을 \\\\( 0.45 \\\\mu \\\\mathrm{m} \\\\)의 여과지로 여과한 다음 초순수 증류수로 25\\\\( \\\\mathrm{mL} \\\\) 까지 정용하여 분석 시료로 사용하였다. 분석신뢰도를 확인하기 위해 표준물질 IRMM-208 (rice)을 함께 분해한 후 동일 조건에서 분석을 실시하였고 회수율은 \\\\( 80-120 \\\\% \\\\) 범위 내로 나타났다.</p><h2>현미와 백미의 비소 화학종 분석</h2><p>현미와 백미 중 비소화학종의 분리. 분석을 위해 분말화한 건조 현미와 백미 시료 \\\\( 0.1 \\\\mathrm{~g} \\\\) 을 \\\\( 15 \\\\mathrm{~mL} \\\\) Teflon digestion tube에 넣어준 후 \\\\( 1 \\\\% \\\\) 질산용액 \\\\( \\\\left(\\\\mathrm{HNO}_{3}\\\\right) 10 \\\\mathrm{~mL} \\\\) 를 넣고 5분간 균질화하여 준 다음 \\\\( 80^{\\\\circ} \\\\mathrm{C} \\\\) water bath에서 30 분간 가열 추출 후 이를 상온에 냉각 후 원심분리기를 이용하여 \\\\( 3000 \\\\times \\\\mathrm{g} \\\\)로 원심분리를 실시하였다. 원심분리 된 시료의 상등액을 \\\\( 0.45 \\\\mu \\\\mathrm{m} \\\\) membrane filter (Laboratory water purification system, Pall Life Science, Port Washington, NY, USA)로 여과하여 \\\\( 15 \\\\mathrm{~mL} \\\\) conical tube에 취하여 보관하였다. 비소의 화학종 분석에는 Hamilton PRP-X100 anion exchange column을 사용한 HPLC-ICP-MS로 분석하였는데, 분석 조건은 Williams 등의 방법[12]을 약간 수정한 Kim 등의 방법을 사용하였다. 쌀 중 비소 화학종 분석은 표준시료(NIST 1568b)를 이용하여 90-\\\\(120\\\\%\\\\)의 회수율을 확인하였다. 본 방법으로 정량이 가능한 비소화학종은 3가비소인 arsenite (As (III)), 5가비소인 arsenate (As (V)), Dimethylarsenicacid (DMA), Monomethylarsonic acid (MMA)이었다.</p><h2>백미의 무기비소 위해성평가</h2><p>본 실험에서 조사한 백미 중 무기비소 함량의 인체 위해성을 파악하기 위하여 이들 물질의 일일평균노출량(Average daily dose, \\\\( \\\\mathrm{ADD}) \\\\) 을 산출하고(Eq. (1)), 발암위해도(Cancer risk probability, \\\\( \\\\mathrm{CR} \\\\) 와 비발암위해도(Hazard Quotient, HQ) 를 평가하였다(Eq. (2)와 (3)).</p><p>\\\\( \\\\mathrm{ADD}=\\\\mathrm{C} \\\\times \\\\mathrm{IR} \\\\times \\\\mathrm{ED} \\\\times \\\\mathrm{EF} /\\\\left(\\\\mathrm{BW} \\\\times \\\\mathrm{AT} \\\\times 365\\\\right) \\\\)<caption>(1)</caption></li></p><p>\\\\( \\\\mathrm{C}= \\\\) Concentration of iAs in crop(백미 중 무기비소 함량, \\\\( \\\\mathrm{mg} \\\\mathrm{kg}^{-1} \\\\) )</p><p>\\\\( \\\\mathrm{IR}= \\\\) Intake rate of crop(맥미 섭취량, \\\\( \\\\mathrm{kg} \\\\mathrm{day}^{-1}, 0.168 \\\\) )</p><p>\\\\( \\\\mathrm{ED}= \\\\) Exposure duration(노출기간, year, 30)</p><p>\\\\( \\\\mathrm{EF}= \\\\) Exposure frequency(노출빈도, day year \\\\( ^{-1}, 365 \\\\) )</p><p>\\\\( \\\\mathrm{BW}= \\\\) Body weight(평균체중, kg, 72.3)</p><p>\\\\( \\\\mathrm{AT}= \\\\) Averaging time(평균수녕, year, 78)</p><p>\\\\( \\\\mathrm{CR}=\\\\mathrm{ADD} \\\\times \\\\mathrm{SF} \\\\)<caption>(2)</caption></p><p>\\\\( \\\\mathrm{SF}= \\\\) Slope factor(발암잠재력, \\\\( 1.5 \\\\mathrm{mg} \\\\mathrm{kg}^{-1} \\\\mathrm{day}^{-1} \\\\) )</p><p>\\\\( \\\\mathrm{HO}=\\\\mathrm{ADD} / \\\\mathrm{RfD} \\\\)<caption>(3)</caption></p><p>\\\\( \\\\mathrm{RfD}= \\\\) Reference \\\\( \\\\operatorname{dose}\\\\left(\\\\right. \\\\) 참고섭취량, \\\\( 0.0003 \\\\mathrm{mg} \\\\mathrm{kg}^{-1} \\\\mathrm{day}^{-1} \\\\) )</p>',\n",
       " 'question': '가열 추출이후에 냉각과정 이후 진행된 공정은 뭐야?',\n",
       " 'start': 1460,\n",
       " 'end': 1465,\n",
       " 'ans': '원심분리기'}"
      ]
     },
     "execution_count": 54,
     "metadata": {},
     "output_type": "execute_result"
    }
   ],
   "source": [
    "QA_valid[26]"
   ]
  },
  {
   "cell_type": "code",
   "execution_count": 63,
   "id": "2892744b-3ef5-441b-963c-57bc43a5d4a3",
   "metadata": {},
   "outputs": [
    {
     "data": {
      "text/plain": [
       "'원심분리기'"
      ]
     },
     "execution_count": 63,
     "metadata": {},
     "output_type": "execute_result"
    }
   ],
   "source": [
    "QA_valid[26]['context'][1460:1465]"
   ]
  },
  {
   "cell_type": "code",
   "execution_count": 71,
   "id": "462d0f1b-6786-4abe-9a19-bd202fc77171",
   "metadata": {},
   "outputs": [
    {
     "data": {
      "text/plain": [
       "(tensor(868), tensor(872))"
      ]
     },
     "execution_count": 71,
     "metadata": {},
     "output_type": "execute_result"
    }
   ],
   "source": [
    "a[2], a[3]\n"
   ]
  },
  {
   "cell_type": "code",
   "execution_count": 82,
   "id": "57bd45d8-d471-432e-b645-7d08faa5f7b4",
   "metadata": {},
   "outputs": [
    {
     "data": {
      "text/plain": [
       "['▁원', '심', '분', '리', '기를']"
      ]
     },
     "execution_count": 82,
     "metadata": {},
     "output_type": "execute_result"
    }
   ],
   "source": [
    "tokenizer.tokenize('원심분리기를')"
   ]
  },
  {
   "cell_type": "code",
   "execution_count": 69,
   "id": "7e112576-7d20-447f-a1ec-d9c13cdb7e15",
   "metadata": {},
   "outputs": [
    {
     "data": {
      "text/plain": [
       "'원심분리'"
      ]
     },
     "execution_count": 69,
     "metadata": {},
     "output_type": "execute_result"
    }
   ],
   "source": [
    "a = QA_valid_dataset[26]\n",
    "tokenizer.decode(a[0][a[2]:a[3]])"
   ]
  },
  {
   "cell_type": "code",
   "execution_count": 103,
   "id": "6c401da4-f803-4376-ae2b-755905e801fa",
   "metadata": {},
   "outputs": [
    {
     "data": {
      "text/plain": [
       "{'pred_txt': \"Folin & Ciocalteu's phenol 시약\",\n",
       " 'truth_txt': \"Folin-Cioaclteu's phenol 시\",\n",
       " 'em': 0,\n",
       " 'f1': 0.7142857142857143,\n",
       " 'pred': [30077,\n",
       "  73,\n",
       "  619,\n",
       "  2079,\n",
       "  29280,\n",
       "  27805,\n",
       "  34,\n",
       "  25,\n",
       "  7,\n",
       "  6,\n",
       "  88322,\n",
       "  929,\n",
       "  6452,\n",
       "  22208],\n",
       " 'truth': [30077,\n",
       "  73,\n",
       "  9,\n",
       "  441,\n",
       "  846,\n",
       "  2263,\n",
       "  27805,\n",
       "  34,\n",
       "  25,\n",
       "  7,\n",
       "  6,\n",
       "  88322,\n",
       "  929,\n",
       "  6452]}"
      ]
     },
     "execution_count": 103,
     "metadata": {},
     "output_type": "execute_result"
    }
   ],
   "source": [
    "my_list[45]"
   ]
  },
  {
   "cell_type": "code",
   "execution_count": 32,
   "id": "2c7d93e3-da6a-492e-9f56-e5131b254fec",
   "metadata": {},
   "outputs": [
    {
     "data": {
      "text/plain": [
       "{'pred_txt': '\\\\(6\\\\) 회',\n",
       " 'truth_txt': '\\\\(6\\\\) 회 증',\n",
       " 'em': 0,\n",
       " 'f1': 0.923076923076923,\n",
       " 'pred': [6, 41872, 139303, 41872, 16, 59372],\n",
       " 'truth': [6, 41872, 139303, 41872, 16, 59372, 54447]}"
      ]
     },
     "execution_count": 32,
     "metadata": {},
     "output_type": "execute_result"
    }
   ],
   "source": [
    "my_list[18]"
   ]
  },
  {
   "cell_type": "code",
   "execution_count": 88,
   "id": "85912f0a-7a6d-44c8-8d5d-af1a47b8cd95",
   "metadata": {},
   "outputs": [
    {
     "data": {
      "text/plain": [
       "tensor([ 8354, 25354, 12322])"
      ]
     },
     "execution_count": 88,
     "metadata": {},
     "output_type": "execute_result"
    }
   ],
   "source": [
    "QA_valid_dataset[15][0][1109:1112]"
   ]
  },
  {
   "cell_type": "code",
   "execution_count": 92,
   "id": "655a19ec-add8-4e51-918c-744e55fb87d4",
   "metadata": {},
   "outputs": [
    {
     "data": {
      "text/plain": [
       "'Korea), 항'"
      ]
     },
     "execution_count": 92,
     "metadata": {},
     "output_type": "execute_result"
    }
   ],
   "source": [
    "tokenizer.decode(QA_valid_dataset[17][0][1109:1112])"
   ]
  },
  {
   "cell_type": "code",
   "execution_count": 79,
   "id": "b1466031-a643-4107-93ca-61d570be8859",
   "metadata": {},
   "outputs": [
    {
     "data": {
      "text/plain": [
       "4"
      ]
     },
     "execution_count": 79,
     "metadata": {},
     "output_type": "execute_result"
    }
   ],
   "source": [
    "len(tokenizer.tokenize('동결건조'))"
   ]
  },
  {
   "cell_type": "code",
   "execution_count": 81,
   "id": "40b36515-4476-420c-b15c-d93ec0f465ae",
   "metadata": {},
   "outputs": [
    {
     "data": {
      "text/plain": [
       "{'context': '<h2>시료제조</h2><p>시료 제조에 사용된 천마는 천마(GR0)와 증숙 천마로 구분 하였고, 증숙 천마는 \\\\(1\\\\)증(GR\\\\(1\\\\)), \\\\(3\\\\)증(GR\\\\(3\\\\)), \\\\(6\\\\)증(GR\\\\(6\\\\)), \\\\(9\\\\)증(GR\\\\(9\\\\)) 천마까지 제조하였다.</p><p>천마는 세척 후 일정 크기로 절단하여 건조기에서 건조하였고, 증숙 천마는 \\\\(1\\\\)증부터 \\\\(9\\\\)증까지 일정한 시간동안 증숙하였고, 증숙 후 건조하여 증숙 횟수를 반복하였다. 증숙은 무압식 스팀증숙기를 사용하여 증숙온도 \\\\( 90^{\\\\circ} \\\\mathrm{C} \\\\) 에서 \\\\(2\\\\)시간씩 물로 증숙하였고, 건조는 밀폐제습식 건조기를 사용하여 수분함량 \\\\( 15 \\\\% \\\\) 미만으로 \\\\(4\\\\)시간 동안 건조하였다. 천마의 발효에 사용된 균주는 Lactobacillus plantarum (F\\\\(1\\\\)), Leuconostoc mesenteroides (F\\\\(2\\\\)), Streptococcus thermophilus (F\\\\(3\\\\)), Saccharomyces cerevisiae (F\\\\(4\\\\))로 대전대학교 미생명생물공학과 이찬용 교수로부터 받아 사용하였다. 발효 천마의 항산화 활성 및 성분 분석을 위한 시료는 액상발효를 시행하였다. 사각 투명 밀폐용기에 각각 라벨을 붙이고, 시료를 각각 \\\\( 5 \\\\mathrm{~g} \\\\) 씩 넣은 후, \\\\( 45 \\\\mathrm{~mL} \\\\) 의 멸균 증류수를 첨가하여 현탁하였다 \\\\( (10 \\\\% \\\\mathrm{w} / \\\\mathrm{v}) \\\\). 시료가 포함된 용기마다 미리 혼합된 복합효소액 \\\\( 0.5 \\\\mathrm{~mL} \\\\) 를 첨가하고 \\\\(24\\\\) 시간 반응시켰다. 시료에 따라 정해진 균주 현탁액을 \\\\( 0.5 \\\\mathrm{~mL} \\\\) 씩 접종하여 섭씨 \\\\( 35^{\\\\circ} \\\\mathrm{C} \\\\) 인큐베이터에서 정치 배양하였다. 접종시 균주의 농도는 생육에 따라 가감하여 \\\\( 10^{7}-10^{8} \\\\) cells \\\\( / \\\\mathrm{mL} \\\\) 정도로 하였다. 샘플에 따라 간헐적으로 흔들어 주었다. 이후 매일 같은 시간에 발효 상태 \\\\( (\\\\mathrm{pH}) \\\\) 를 확인하고 발효의 지속여부를 결정하였다.</p><p>동물 실험에 사용된 시료는 고형 발효를 시행하였다. 사각 투명 밀폐용기에 각각 라벨을 붙이고, 시료를 샘플 하나당 \\\\(2\\\\) 개씩 각각 \\\\( 50 \\\\mathrm{~g} \\\\) 씩 총 \\\\( 100 \\\\mathrm{~g} \\\\) 을 계량하여 넣었다. 여기에 \\\\( 200 \\\\mathrm{~mL} \\\\) 의 멸균 증류수를 첨가하여 현탁하였으며 \\\\( (20 \\\\% \\\\mathrm{w} / \\\\mathrm{v}) \\\\) 시료가 포함된 용기마다 미리 혼합된 복합효소액 \\\\( 2 \\\\mathrm{~mL} \\\\) 를 첨가하고 \\\\(24\\\\) 시간 반응시켰다. 시료에 따라 정해진 균주 현탁액을 \\\\( 2 \\\\mathrm{~mL} \\\\) 씩 접종하여 섭씨 \\\\( 35^{\\\\circ} \\\\mathrm{C} \\\\) 인큐베이터에서 정치 배양하였다. 배양액을 \\\\( 10^{7}-10^{8} \\\\mathrm{cells/mL} \\\\)의 균주 농도를 맞추어 접종하였다. 샘플에 따라 간헐적으로 흔들어 주었으며 매일 같은 시간에 발효상태 \\\\( (\\\\mathrm{pH}) \\\\) 를 확인하고 \\\\( 35^{\\\\circ} \\\\mathrm{C} \\\\) 로, \\\\(6\\\\) 일간 발효하였다. 그 다음 발효한 시료를 동결건조하였다. 동결건조는 \\\\( -30^{\\\\circ} \\\\mathrm{C} \\\\) 에서 \\\\(120\\\\) 분,\\\\( -15^{\\\\circ} \\\\mathrm{C} \\\\) 에서 \\\\(120\\\\) 분 \\\\( 0^{\\\\circ} \\\\mathrm{C} \\\\) 에서 \\\\(240\\\\) 분, \\\\( 15^{\\\\circ} \\\\mathrm{C} \\\\) 에서 \\\\(120\\\\) 분, \\\\( 30^{\\\\circ} \\\\mathrm{C} \\\\) 에서 \\\\(120\\\\) 분의 조건으로 시행하였다.</p>',\n",
       " 'question': '발효한 시료는 어떤 처리를 했는가?',\n",
       " 'start': 1674,\n",
       " 'end': 1678,\n",
       " 'ans': '동결건조'}"
      ]
     },
     "execution_count": 81,
     "metadata": {},
     "output_type": "execute_result"
    }
   ],
   "source": [
    "QA_valid[15]"
   ]
  },
  {
   "cell_type": "code",
   "execution_count": null,
   "id": "6ae181c3-a0f9-40ae-901e-2c07169a70ff",
   "metadata": {},
   "outputs": [],
   "source": []
  }
 ],
 "metadata": {
  "kernelspec": {
   "display_name": "py36_LM",
   "language": "python",
   "name": "py36_lm"
  },
  "language_info": {
   "codemirror_mode": {
    "name": "ipython",
    "version": 3
   },
   "file_extension": ".py",
   "mimetype": "text/x-python",
   "name": "python",
   "nbconvert_exporter": "python",
   "pygments_lexer": "ipython3",
   "version": "3.6.13"
  }
 },
 "nbformat": 4,
 "nbformat_minor": 5
}
